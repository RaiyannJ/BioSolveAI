{
 "cells": [
  {
   "cell_type": "code",
   "execution_count": 14,
   "metadata": {},
   "outputs": [],
   "source": [
    "import torch\n",
    "from torch_geometric.loader import DataLoader\n",
    "import matplotlib.pyplot as plt\n",
    "import numpy as np\n",
    "from rdkit import rdBase\n",
    "from rdkit import Chem\n",
    "from rdkit.Chem.Draw import rdMolDraw2D\n",
    "import matplotlib.cm as cmaps\n",
    "import IPython.display as ipd\n"
   ]
  },
  {
   "cell_type": "code",
   "execution_count": 26,
   "metadata": {},
   "outputs": [],
   "source": [
    "from interpret_utils import load_trained_model, get_node_attribution_gnn, visualize_attribution\n",
    "from data.data_loaders import preproccess_data, generate_scaffold_split, df_to_graph_list, get_scaffolds"
   ]
  },
  {
   "cell_type": "code",
   "execution_count": 48,
   "metadata": {},
   "outputs": [],
   "source": [
    "model_args = {\n",
    "    'num_node_features': 6,\n",
    "    'edge_attr_dim': 4,\n",
    "    'u_dim': 6,\n",
    "    'hidden_dim': 64,\n",
    "    'output_dim': 1\n",
    "}\n"
   ]
  },
  {
   "cell_type": "code",
   "execution_count": 49,
   "metadata": {},
   "outputs": [],
   "source": [
    "def attach_smiles_to_graphs(graph_list, smiles_list):\n",
    "    for graph, smi in zip(graph_list, smiles_list):\n",
    "        graph.smiles = smi\n",
    "    return graph_list\n"
   ]
  },
  {
   "cell_type": "code",
   "execution_count": 50,
   "metadata": {},
   "outputs": [
    {
     "name": "stderr",
     "output_type": "stream",
     "text": [
      "[02:55:48] WARNING: not removing hydrogen atom without neighbors\n",
      "[02:55:48] WARNING: not removing hydrogen atom without neighbors\n",
      "[02:55:48] WARNING: not removing hydrogen atom without neighbors\n",
      "[02:55:48] WARNING: not removing hydrogen atom without neighbors\n",
      "[02:55:48] WARNING: not removing hydrogen atom without neighbors\n",
      "[02:55:48] WARNING: not removing hydrogen atom without neighbors\n",
      "[02:55:48] WARNING: not removing hydrogen atom without neighbors\n",
      "[02:55:48] WARNING: not removing hydrogen atom without neighbors\n",
      "[02:55:48] WARNING: not removing hydrogen atom without neighbors\n",
      "[02:55:48] WARNING: not removing hydrogen atom without neighbors\n",
      "[02:55:48] WARNING: not removing hydrogen atom without neighbors\n",
      "[02:55:48] WARNING: not removing hydrogen atom without neighbors\n",
      "[02:55:49] WARNING: not removing hydrogen atom without neighbors\n",
      "[02:55:49] WARNING: not removing hydrogen atom without neighbors\n",
      "[02:55:49] WARNING: not removing hydrogen atom without neighbors\n",
      "[02:55:49] WARNING: not removing hydrogen atom without neighbors\n",
      "[02:55:49] WARNING: not removing hydrogen atom without neighbors\n",
      "[02:55:49] WARNING: not removing hydrogen atom without neighbors\n",
      "[02:55:49] WARNING: not removing hydrogen atom without neighbors\n",
      "[02:55:49] WARNING: not removing hydrogen atom without neighbors\n",
      "[02:55:49] WARNING: not removing hydrogen atom without neighbors\n",
      "[02:55:49] WARNING: not removing hydrogen atom without neighbors\n",
      "[02:55:49] WARNING: not removing hydrogen atom without neighbors\n",
      "[02:55:49] WARNING: not removing hydrogen atom without neighbors\n",
      "[02:55:49] WARNING: not removing hydrogen atom without neighbors\n",
      "[02:55:49] WARNING: not removing hydrogen atom without neighbors\n",
      "[02:55:49] WARNING: not removing hydrogen atom without neighbors\n",
      "[02:55:49] WARNING: not removing hydrogen atom without neighbors\n",
      "[02:55:49] WARNING: not removing hydrogen atom without neighbors\n",
      "[02:55:49] WARNING: not removing hydrogen atom without neighbors\n",
      "[02:55:49] WARNING: not removing hydrogen atom without neighbors\n",
      "[02:55:49] WARNING: not removing hydrogen atom without neighbors\n",
      "[02:55:49] WARNING: not removing hydrogen atom without neighbors\n",
      "[02:55:49] WARNING: not removing hydrogen atom without neighbors\n",
      "[02:55:49] WARNING: not removing hydrogen atom without neighbors\n",
      "[02:55:49] WARNING: not removing hydrogen atom without neighbors\n",
      "[02:55:49] WARNING: not removing hydrogen atom without neighbors\n",
      "[02:55:49] WARNING: not removing hydrogen atom without neighbors\n",
      "[02:55:49] WARNING: not removing hydrogen atom without neighbors\n",
      "[02:55:49] WARNING: not removing hydrogen atom without neighbors\n",
      "[02:55:49] WARNING: not removing hydrogen atom without neighbors\n",
      "[02:55:49] WARNING: not removing hydrogen atom without neighbors\n",
      "[02:55:49] WARNING: not removing hydrogen atom without neighbors\n",
      "[02:55:49] WARNING: not removing hydrogen atom without neighbors\n",
      "[02:55:49] WARNING: not removing hydrogen atom without neighbors\n",
      "[02:55:49] WARNING: not removing hydrogen atom without neighbors\n",
      "[02:55:49] WARNING: not removing hydrogen atom without neighbors\n",
      "[02:55:49] WARNING: not removing hydrogen atom without neighbors\n",
      "[02:55:49] WARNING: not removing hydrogen atom without neighbors\n",
      "[02:55:49] WARNING: not removing hydrogen atom without neighbors\n",
      "[02:55:49] WARNING: not removing hydrogen atom without neighbors\n",
      "[02:55:49] WARNING: not removing hydrogen atom without neighbors\n",
      "[02:55:49] WARNING: not removing hydrogen atom without neighbors\n",
      "[02:55:49] WARNING: not removing hydrogen atom without neighbors\n",
      "[02:55:49] WARNING: not removing hydrogen atom without neighbors\n",
      "[02:55:49] WARNING: not removing hydrogen atom without neighbors\n",
      "[02:55:49] WARNING: not removing hydrogen atom without neighbors\n",
      "[02:55:49] WARNING: not removing hydrogen atom without neighbors\n",
      "[02:55:49] WARNING: not removing hydrogen atom without neighbors\n",
      "[02:55:49] WARNING: not removing hydrogen atom without neighbors\n",
      "[02:55:49] Explicit valence for atom # 5 N, 4, is greater than permitted\n",
      "[02:55:49] WARNING: not removing hydrogen atom without neighbors\n",
      "[02:55:49] Explicit valence for atom # 5 N, 4, is greater than permitted\n",
      "[02:55:49] WARNING: not removing hydrogen atom without neighbors\n",
      "[02:55:49] WARNING: not removing hydrogen atom without neighbors\n",
      "[02:55:49] WARNING: not removing hydrogen atom without neighbors\n",
      "[02:55:49] WARNING: not removing hydrogen atom without neighbors\n",
      "[02:55:50] WARNING: not removing hydrogen atom without neighbors\n",
      "[02:55:50] WARNING: not removing hydrogen atom without neighbors\n",
      "[02:55:50] WARNING: not removing hydrogen atom without neighbors\n",
      "[02:55:50] WARNING: not removing hydrogen atom without neighbors\n",
      "[02:55:50] WARNING: not removing hydrogen atom without neighbors\n",
      "[02:55:50] WARNING: not removing hydrogen atom without neighbors\n",
      "[02:55:50] WARNING: not removing hydrogen atom without neighbors\n",
      "[02:55:50] WARNING: not removing hydrogen atom without neighbors\n",
      "[02:55:50] WARNING: not removing hydrogen atom without neighbors\n",
      "[02:55:50] WARNING: not removing hydrogen atom without neighbors\n",
      "[02:55:50] WARNING: not removing hydrogen atom without neighbors\n",
      "[02:55:50] WARNING: not removing hydrogen atom without neighbors\n",
      "[02:55:50] WARNING: not removing hydrogen atom without neighbors\n",
      "[02:55:50] WARNING: not removing hydrogen atom without neighbors\n",
      "[02:55:50] WARNING: not removing hydrogen atom without neighbors\n",
      "[02:55:50] WARNING: not removing hydrogen atom without neighbors\n",
      "[02:55:50] WARNING: not removing hydrogen atom without neighbors\n",
      "[02:55:50] WARNING: not removing hydrogen atom without neighbors\n",
      "[02:55:50] WARNING: not removing hydrogen atom without neighbors\n",
      "[02:55:50] WARNING: not removing hydrogen atom without neighbors\n",
      "[02:55:50] WARNING: not removing hydrogen atom without neighbors\n",
      "[02:55:50] WARNING: not removing hydrogen atom without neighbors\n",
      "[02:55:50] WARNING: not removing hydrogen atom without neighbors\n",
      "[02:55:50] WARNING: not removing hydrogen atom without neighbors\n",
      "[02:55:50] WARNING: not removing hydrogen atom without neighbors\n",
      "[02:55:50] WARNING: not removing hydrogen atom without neighbors\n",
      "[02:55:50] WARNING: not removing hydrogen atom without neighbors\n",
      "[02:55:50] WARNING: not removing hydrogen atom without neighbors\n",
      "[02:55:50] WARNING: not removing hydrogen atom without neighbors\n",
      "[02:55:50] WARNING: not removing hydrogen atom without neighbors\n",
      "[02:55:50] WARNING: not removing hydrogen atom without neighbors\n",
      "[02:55:50] WARNING: not removing hydrogen atom without neighbors\n",
      "[02:55:50] WARNING: not removing hydrogen atom without neighbors\n",
      "[02:55:50] WARNING: not removing hydrogen atom without neighbors\n",
      "[02:55:50] WARNING: not removing hydrogen atom without neighbors\n",
      "[02:55:50] WARNING: not removing hydrogen atom without neighbors\n",
      "[02:55:50] WARNING: not removing hydrogen atom without neighbors\n",
      "[02:55:50] WARNING: not removing hydrogen atom without neighbors\n",
      "[02:55:50] WARNING: not removing hydrogen atom without neighbors\n",
      "[02:55:50] WARNING: not removing hydrogen atom without neighbors\n",
      "[02:55:50] WARNING: not removing hydrogen atom without neighbors\n",
      "[02:55:50] WARNING: not removing hydrogen atom without neighbors\n",
      "[02:55:50] WARNING: not removing hydrogen atom without neighbors\n",
      "[02:55:50] WARNING: not removing hydrogen atom without neighbors\n",
      "[02:55:50] WARNING: not removing hydrogen atom without neighbors\n",
      "[02:55:50] WARNING: not removing hydrogen atom without neighbors\n",
      "[02:55:50] WARNING: not removing hydrogen atom without neighbors\n",
      "[02:55:50] WARNING: not removing hydrogen atom without neighbors\n",
      "[02:55:50] WARNING: not removing hydrogen atom without neighbors\n",
      "[02:55:50] WARNING: not removing hydrogen atom without neighbors\n",
      "[02:55:50] WARNING: not removing hydrogen atom without neighbors\n",
      "[02:55:50] WARNING: not removing hydrogen atom without neighbors\n",
      "[02:55:50] WARNING: not removing hydrogen atom without neighbors\n",
      "[02:55:50] WARNING: not removing hydrogen atom without neighbors\n",
      "[02:55:50] WARNING: not removing hydrogen atom without neighbors\n",
      "[02:55:50] WARNING: not removing hydrogen atom without neighbors\n",
      "[02:55:50] WARNING: not removing hydrogen atom without neighbors\n",
      "[02:55:50] WARNING: not removing hydrogen atom without neighbors\n",
      "[02:55:50] WARNING: not removing hydrogen atom without neighbors\n",
      "[02:55:50] WARNING: not removing hydrogen atom without neighbors\n",
      "[02:55:50] WARNING: not removing hydrogen atom without neighbors\n",
      "[02:55:50] WARNING: not removing hydrogen atom without neighbors\n",
      "[02:55:50] WARNING: not removing hydrogen atom without neighbors\n",
      "[02:55:50] WARNING: not removing hydrogen atom without neighbors\n",
      "[02:55:50] WARNING: not removing hydrogen atom without neighbors\n"
     ]
    }
   ],
   "source": [
    "# Load and preprocess dataset\n",
    "df = preproccess_data(\"./data/curated-solubility-dataset.csv\")\n",
    "\n",
    "# Add scaffold column\n",
    "df[\"scaffold\"] = df[\"mol\"].apply(get_scaffolds)\n",
    "\n",
    "df[\"smiles\"] = df[\"mol\"].apply(Chem.MolToSmiles)  # Add SMILES column"
   ]
  },
  {
   "cell_type": "code",
   "execution_count": 51,
   "metadata": {},
   "outputs": [],
   "source": [
    "# Split by scaffold\n",
    "train_idx, val_idx, test_idx = generate_scaffold_split(df, frac_train=0.8, frac_valid=0.1, frac_test=0.1)\n",
    "test_df = df.iloc[test_idx].reset_index(drop=True)"
   ]
  },
  {
   "cell_type": "code",
   "execution_count": 52,
   "metadata": {},
   "outputs": [],
   "source": [
    "# Save SMILES before conversion\n",
    "test_smiles = test_df[\"smiles\"].tolist()\n",
    "\n",
    "# Convert test split to graph list\n",
    "test_dataset = df_to_graph_list(test_df)\n",
    "\n",
    "# Attach SMILES to graphs\n",
    "test_dataset = attach_smiles_to_graphs(test_dataset, test_smiles)\n",
    "\n",
    "test_loader = DataLoader(test_dataset, batch_size=1, shuffle=False)"
   ]
  },
  {
   "cell_type": "code",
   "execution_count": 53,
   "metadata": {},
   "outputs": [
    {
     "name": "stderr",
     "output_type": "stream",
     "text": [
      "/Users/tanishsharma/Documents/uoft/2nd_sem_3rd_yr/ece324/BioSolveAI/interpret_utils.py:63: FutureWarning: You are using `torch.load` with `weights_only=False` (the current default value), which uses the default pickle module implicitly. It is possible to construct malicious pickle data which will execute arbitrary code during unpickling (See https://github.com/pytorch/pytorch/blob/main/SECURITY.md#untrusted-models for more details). In a future release, the default value for `weights_only` will be flipped to `True`. This limits the functions that could be executed during unpickling. Arbitrary objects will no longer be allowed to be loaded via this mode unless they are explicitly allowlisted by the user via `torch.serialization.add_safe_globals`. We recommend you start setting `weights_only=True` for any use case where you don't have full control of the loaded file. Please open an issue on GitHub for any issues related to this experimental feature.\n",
      "  model.load_state_dict(torch.load(model_path, map_location=device))\n"
     ]
    }
   ],
   "source": [
    "# Load best model\n",
    "model = load_trained_model(\"best_model.pth\", model_args=model_args, device=\"cpu\")"
   ]
  },
  {
   "cell_type": "code",
   "execution_count": 54,
   "metadata": {},
   "outputs": [
    {
     "name": "stdout",
     "output_type": "stream",
     "text": [
      "Predicted: 1.4966, Actual: 1.9912\n",
      "Node Attribution Scores: [0.0686921551823616, 0.12557747960090637, 0.08008261024951935, 0.15251247584819794, 0.09297221153974533]\n"
     ]
    }
   ],
   "source": [
    "sample_index = 0  # change this to try other molecules\n",
    "\n",
    "scores, data, pred, target = get_node_attribution_gnn(model, test_loader, sample_index=sample_index)\n",
    "print(f\"Predicted: {pred:.4f}, Actual: {target:.4f}\")\n",
    "print(\"Node Attribution Scores:\", scores.tolist())"
   ]
  },
  {
   "cell_type": "code",
   "execution_count": 55,
   "metadata": {},
   "outputs": [
    {
     "name": "stdout",
     "output_type": "stream",
     "text": [
      "\n",
      "==== Node Attribution Heatmap - Sample 0 ====\n",
      "\n"
     ]
    },
    {
     "data": {
      "image/svg+xml": [
       "<svg xmlns=\"http://www.w3.org/2000/svg\" xmlns:rdkit=\"http://www.rdkit.org/xml\" xmlns:xlink=\"http://www.w3.org/1999/xlink\" version=\"1.1\" baseProfile=\"full\" xml:space=\"preserve\" width=\"400px\" height=\"300px\" viewBox=\"0 0 400 300\">\n",
       "<!-- END OF HEADER -->\n",
       "<rect style=\"opacity:1.0;fill:#FFFFFF;stroke:none\" width=\"400.0\" height=\"300.0\" x=\"0.0\" y=\"0.0\"> </rect>\n",
       "<ellipse cx=\"236.9\" cy=\"71.2\" rx=\"21.0\" ry=\"21.0\" class=\"atom-0\" style=\"fill:#440154;fill-rule:evenodd;stroke:#440154;stroke-width:1.0px;stroke-linecap:butt;stroke-linejoin:miter;stroke-opacity:1\"/>\n",
       "<ellipse cx=\"236.9\" cy=\"176.0\" rx=\"21.0\" ry=\"21.0\" class=\"atom-1\" style=\"fill:#39B976;fill-rule:evenodd;stroke:#39B976;stroke-width:1.0px;stroke-linecap:butt;stroke-linejoin:miter;stroke-opacity:1\"/>\n",
       "<ellipse cx=\"341.2\" cy=\"228.8\" rx=\"37.2\" ry=\"21.0\" class=\"atom-2\" style=\"fill:#462F7C;fill-rule:evenodd;stroke:#462F7C;stroke-width:1.0px;stroke-linecap:butt;stroke-linejoin:miter;stroke-opacity:1\"/>\n",
       "<ellipse cx=\"146.0\" cy=\"228.6\" rx=\"21.0\" ry=\"21.0\" class=\"atom-3\" style=\"fill:#FDE724;fill-rule:evenodd;stroke:#FDE724;stroke-width:1.0px;stroke-linecap:butt;stroke-linejoin:miter;stroke-opacity:1\"/>\n",
       "<ellipse cx=\"42.6\" cy=\"176.2\" rx=\"21.0\" ry=\"21.7\" class=\"atom-4\" style=\"fill:#355C8C;fill-rule:evenodd;stroke:#355C8C;stroke-width:1.0px;stroke-linecap:butt;stroke-linejoin:miter;stroke-opacity:1\"/>\n",
       "<path class=\"bond-0 atom-0 atom-1\" d=\"M 244.8,89.2 L 244.8,180.6\" style=\"fill:none;fill-rule:evenodd;stroke:#000000;stroke-width:2.0px;stroke-linecap:butt;stroke-linejoin:miter;stroke-opacity:1\"/>\n",
       "<path class=\"bond-0 atom-0 atom-1\" d=\"M 229.1,89.2 L 229.1,180.6\" style=\"fill:none;fill-rule:evenodd;stroke:#000000;stroke-width:2.0px;stroke-linecap:butt;stroke-linejoin:miter;stroke-opacity:1\"/>\n",
       "<path class=\"bond-1 atom-1 atom-2\" d=\"M 236.9,176.0 L 311.5,219.1\" style=\"fill:none;fill-rule:evenodd;stroke:#000000;stroke-width:2.0px;stroke-linecap:butt;stroke-linejoin:miter;stroke-opacity:1\"/>\n",
       "<path class=\"bond-2 atom-1 atom-3\" d=\"M 236.9,176.0 L 146.0,228.6\" style=\"fill:none;fill-rule:evenodd;stroke:#000000;stroke-width:2.0px;stroke-linecap:butt;stroke-linejoin:miter;stroke-opacity:1\"/>\n",
       "<path class=\"bond-3 atom-3 atom-4\" d=\"M 146.0,228.6 L 60.3,179.1\" style=\"fill:none;fill-rule:evenodd;stroke:#000000;stroke-width:2.0px;stroke-linecap:butt;stroke-linejoin:miter;stroke-opacity:1\"/>\n",
       "<path d=\"M 240.7,178.2 L 236.9,176.0 L 232.4,178.7\" style=\"fill:none;stroke:#000000;stroke-width:2.0px;stroke-linecap:butt;stroke-linejoin:miter;stroke-opacity:1;\"/>\n",
       "<path d=\"M 150.5,225.9 L 146.0,228.6 L 141.7,226.1\" style=\"fill:none;stroke:#000000;stroke-width:2.0px;stroke-linecap:butt;stroke-linejoin:miter;stroke-opacity:1;\"/>\n",
       "<path class=\"atom-0\" d=\"M 223.9 71.1 Q 223.9 64.3, 227.3 60.5 Q 230.7 56.7, 236.9 56.7 Q 243.2 56.7, 246.6 60.5 Q 249.9 64.3, 249.9 71.1 Q 249.9 78.0, 246.5 81.9 Q 243.1 85.8, 236.9 85.8 Q 230.7 85.8, 227.3 81.9 Q 223.9 78.0, 223.9 71.1 M 236.9 82.6 Q 241.3 82.6, 243.6 79.7 Q 245.9 76.8, 245.9 71.1 Q 245.9 65.5, 243.6 62.7 Q 241.3 59.9, 236.9 59.9 Q 232.6 59.9, 230.3 62.7 Q 227.9 65.5, 227.9 71.1 Q 227.9 76.8, 230.3 79.7 Q 232.6 82.6, 236.9 82.6 \" fill=\"#000000\"/>\n",
       "<path class=\"atom-2\" d=\"M 314.9 228.6 Q 314.9 221.8, 318.3 218.0 Q 321.6 214.2, 327.9 214.2 Q 334.2 214.2, 337.6 218.0 Q 340.9 221.8, 340.9 228.6 Q 340.9 235.5, 337.5 239.4 Q 334.1 243.3, 327.9 243.3 Q 321.7 243.3, 318.3 239.4 Q 314.9 235.6, 314.9 228.6 M 327.9 240.1 Q 332.2 240.1, 334.6 237.2 Q 336.9 234.3, 336.9 228.6 Q 336.9 223.1, 334.6 220.3 Q 332.2 217.4, 327.9 217.4 Q 323.6 217.4, 321.2 220.2 Q 318.9 223.0, 318.9 228.6 Q 318.9 234.4, 321.2 237.2 Q 323.6 240.1, 327.9 240.1 \" fill=\"#000000\"/>\n",
       "<path class=\"atom-2\" d=\"M 345.3 214.6 L 349.2 214.6 L 349.2 226.6 L 363.6 226.6 L 363.6 214.6 L 367.5 214.6 L 367.5 242.9 L 363.6 242.9 L 363.6 229.8 L 349.2 229.8 L 349.2 242.9 L 345.3 242.9 L 345.3 214.6 \" fill=\"#000000\"/>\n",
       "<path class=\"atom-4\" d=\"M 28.4 177.0 Q 28.4 170.0, 31.7 166.3 Q 35.0 162.6, 41.3 162.6 Q 47.2 162.6, 50.3 166.7 L 47.6 168.9 Q 45.4 165.9, 41.3 165.9 Q 37.0 165.9, 34.8 168.7 Q 32.5 171.6, 32.5 177.0 Q 32.5 182.6, 34.8 185.5 Q 37.2 188.4, 41.8 188.4 Q 44.9 188.4, 48.5 186.5 L 49.6 189.5 Q 48.2 190.5, 45.9 191.0 Q 43.7 191.6, 41.2 191.6 Q 35.0 191.6, 31.7 187.8 Q 28.4 184.1, 28.4 177.0 \" fill=\"#000000\"/>\n",
       "<path class=\"atom-4\" d=\"M 53.2 160.9 L 56.8 160.9 L 56.8 191.2 L 53.2 191.2 L 53.2 160.9 \" fill=\"#000000\"/>\n",
       "</svg>"
      ],
      "text/plain": [
       "<IPython.core.display.SVG object>"
      ]
     },
     "metadata": {},
     "output_type": "display_data"
    }
   ],
   "source": [
    "# ===========================\n",
    "# Visualize Attribution \n",
    "# ===========================\n",
    "\n",
    "# Extract SMILES from data object\n",
    "smiles = test_dataset[sample_index].smiles if hasattr(test_dataset[sample_index], 'smiles') else None\n",
    "if smiles is None:\n",
    "    raise ValueError(\"SMILES not found in dataset. Make sure each data object includes a `smiles` attribute.\")\n",
    "\n",
    "visualize_attribution(smiles, scores, molecule_name=f\"Sample {sample_index}\")"
   ]
  },
  {
   "cell_type": "markdown",
   "metadata": {},
   "source": []
  }
 ],
 "metadata": {
  "kernelspec": {
   "display_name": "Python 3",
   "language": "python",
   "name": "python3"
  },
  "language_info": {
   "codemirror_mode": {
    "name": "ipython",
    "version": 3
   },
   "file_extension": ".py",
   "mimetype": "text/x-python",
   "name": "python",
   "nbconvert_exporter": "python",
   "pygments_lexer": "ipython3",
   "version": "3.10.16"
  }
 },
 "nbformat": 4,
 "nbformat_minor": 2
}
