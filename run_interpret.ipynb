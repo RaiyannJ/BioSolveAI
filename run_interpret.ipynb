{
 "cells": [
  {
   "cell_type": "code",
   "execution_count": 14,
   "metadata": {},
   "outputs": [],
   "source": [
    "import torch\n",
    "from torch_geometric.loader import DataLoader\n",
    "import matplotlib.pyplot as plt\n",
    "import numpy as np\n",
    "from rdkit import rdBase\n",
    "from rdkit import Chem\n",
    "from rdkit.Chem.Draw import rdMolDraw2D\n",
    "import matplotlib.cm as cmaps\n",
    "import IPython.display as ipd\n"
   ]
  },
  {
   "cell_type": "code",
   "execution_count": 26,
   "metadata": {},
   "outputs": [],
   "source": [
    "from interpret_utils import load_trained_model, get_node_attribution_gnn, visualize_attribution\n",
    "from data.data_loaders import preproccess_data, generate_scaffold_split, df_to_graph_list, get_scaffolds"
   ]
  },
  {
   "cell_type": "code",
   "execution_count": 40,
   "metadata": {},
   "outputs": [],
   "source": [
    "model_args = {\n",
    "    'num_node_features': 6,\n",
    "    'edge_attr_dim': 4,\n",
    "    'u_dim': 6,\n",
    "    'hidden_dim': 64,\n",
    "    'output_dim': 1\n",
    "}\n"
   ]
  },
  {
   "cell_type": "code",
   "execution_count": 41,
   "metadata": {},
   "outputs": [
    {
     "name": "stderr",
     "output_type": "stream",
     "text": [
      "[02:44:17] WARNING: not removing hydrogen atom without neighbors\n",
      "[02:44:17] WARNING: not removing hydrogen atom without neighbors\n",
      "[02:44:17] WARNING: not removing hydrogen atom without neighbors\n",
      "[02:44:17] WARNING: not removing hydrogen atom without neighbors\n",
      "[02:44:17] WARNING: not removing hydrogen atom without neighbors\n",
      "[02:44:17] WARNING: not removing hydrogen atom without neighbors\n",
      "[02:44:17] WARNING: not removing hydrogen atom without neighbors\n",
      "[02:44:17] WARNING: not removing hydrogen atom without neighbors\n",
      "[02:44:17] WARNING: not removing hydrogen atom without neighbors\n",
      "[02:44:17] WARNING: not removing hydrogen atom without neighbors\n",
      "[02:44:17] WARNING: not removing hydrogen atom without neighbors\n",
      "[02:44:17] WARNING: not removing hydrogen atom without neighbors\n",
      "[02:44:17] WARNING: not removing hydrogen atom without neighbors\n",
      "[02:44:17] WARNING: not removing hydrogen atom without neighbors\n",
      "[02:44:17] WARNING: not removing hydrogen atom without neighbors\n",
      "[02:44:17] WARNING: not removing hydrogen atom without neighbors\n",
      "[02:44:17] WARNING: not removing hydrogen atom without neighbors\n",
      "[02:44:17] WARNING: not removing hydrogen atom without neighbors\n",
      "[02:44:17] WARNING: not removing hydrogen atom without neighbors\n",
      "[02:44:17] WARNING: not removing hydrogen atom without neighbors\n",
      "[02:44:17] WARNING: not removing hydrogen atom without neighbors\n",
      "[02:44:17] WARNING: not removing hydrogen atom without neighbors\n",
      "[02:44:17] WARNING: not removing hydrogen atom without neighbors\n",
      "[02:44:17] WARNING: not removing hydrogen atom without neighbors\n",
      "[02:44:17] WARNING: not removing hydrogen atom without neighbors\n",
      "[02:44:17] WARNING: not removing hydrogen atom without neighbors\n",
      "[02:44:17] WARNING: not removing hydrogen atom without neighbors\n",
      "[02:44:17] WARNING: not removing hydrogen atom without neighbors\n",
      "[02:44:17] WARNING: not removing hydrogen atom without neighbors\n",
      "[02:44:17] WARNING: not removing hydrogen atom without neighbors\n",
      "[02:44:17] WARNING: not removing hydrogen atom without neighbors\n",
      "[02:44:17] WARNING: not removing hydrogen atom without neighbors\n",
      "[02:44:17] WARNING: not removing hydrogen atom without neighbors\n",
      "[02:44:18] WARNING: not removing hydrogen atom without neighbors\n",
      "[02:44:18] WARNING: not removing hydrogen atom without neighbors\n",
      "[02:44:18] WARNING: not removing hydrogen atom without neighbors\n",
      "[02:44:18] WARNING: not removing hydrogen atom without neighbors\n",
      "[02:44:18] WARNING: not removing hydrogen atom without neighbors\n",
      "[02:44:18] WARNING: not removing hydrogen atom without neighbors\n",
      "[02:44:18] WARNING: not removing hydrogen atom without neighbors\n",
      "[02:44:18] WARNING: not removing hydrogen atom without neighbors\n",
      "[02:44:18] WARNING: not removing hydrogen atom without neighbors\n",
      "[02:44:18] WARNING: not removing hydrogen atom without neighbors\n",
      "[02:44:18] WARNING: not removing hydrogen atom without neighbors\n",
      "[02:44:18] WARNING: not removing hydrogen atom without neighbors\n",
      "[02:44:18] WARNING: not removing hydrogen atom without neighbors\n",
      "[02:44:18] WARNING: not removing hydrogen atom without neighbors\n",
      "[02:44:18] WARNING: not removing hydrogen atom without neighbors\n",
      "[02:44:18] WARNING: not removing hydrogen atom without neighbors\n",
      "[02:44:18] WARNING: not removing hydrogen atom without neighbors\n",
      "[02:44:18] WARNING: not removing hydrogen atom without neighbors\n",
      "[02:44:18] WARNING: not removing hydrogen atom without neighbors\n",
      "[02:44:18] WARNING: not removing hydrogen atom without neighbors\n",
      "[02:44:18] WARNING: not removing hydrogen atom without neighbors\n",
      "[02:44:18] WARNING: not removing hydrogen atom without neighbors\n",
      "[02:44:18] WARNING: not removing hydrogen atom without neighbors\n",
      "[02:44:18] WARNING: not removing hydrogen atom without neighbors\n",
      "[02:44:18] WARNING: not removing hydrogen atom without neighbors\n",
      "[02:44:18] WARNING: not removing hydrogen atom without neighbors\n",
      "[02:44:18] WARNING: not removing hydrogen atom without neighbors\n",
      "[02:44:18] Explicit valence for atom # 5 N, 4, is greater than permitted\n",
      "[02:44:18] WARNING: not removing hydrogen atom without neighbors\n",
      "[02:44:18] Explicit valence for atom # 5 N, 4, is greater than permitted\n",
      "[02:44:18] WARNING: not removing hydrogen atom without neighbors\n",
      "[02:44:18] WARNING: not removing hydrogen atom without neighbors\n",
      "[02:44:18] WARNING: not removing hydrogen atom without neighbors\n",
      "[02:44:18] WARNING: not removing hydrogen atom without neighbors\n",
      "[02:44:19] WARNING: not removing hydrogen atom without neighbors\n",
      "[02:44:19] WARNING: not removing hydrogen atom without neighbors\n",
      "[02:44:19] WARNING: not removing hydrogen atom without neighbors\n",
      "[02:44:19] WARNING: not removing hydrogen atom without neighbors\n",
      "[02:44:19] WARNING: not removing hydrogen atom without neighbors\n",
      "[02:44:19] WARNING: not removing hydrogen atom without neighbors\n",
      "[02:44:19] WARNING: not removing hydrogen atom without neighbors\n",
      "[02:44:19] WARNING: not removing hydrogen atom without neighbors\n",
      "[02:44:19] WARNING: not removing hydrogen atom without neighbors\n",
      "[02:44:19] WARNING: not removing hydrogen atom without neighbors\n",
      "[02:44:19] WARNING: not removing hydrogen atom without neighbors\n",
      "[02:44:19] WARNING: not removing hydrogen atom without neighbors\n",
      "[02:44:19] WARNING: not removing hydrogen atom without neighbors\n",
      "[02:44:19] WARNING: not removing hydrogen atom without neighbors\n",
      "[02:44:19] WARNING: not removing hydrogen atom without neighbors\n",
      "[02:44:19] WARNING: not removing hydrogen atom without neighbors\n",
      "[02:44:19] WARNING: not removing hydrogen atom without neighbors\n",
      "[02:44:19] WARNING: not removing hydrogen atom without neighbors\n",
      "[02:44:19] WARNING: not removing hydrogen atom without neighbors\n",
      "[02:44:19] WARNING: not removing hydrogen atom without neighbors\n",
      "[02:44:19] WARNING: not removing hydrogen atom without neighbors\n",
      "[02:44:19] WARNING: not removing hydrogen atom without neighbors\n",
      "[02:44:19] WARNING: not removing hydrogen atom without neighbors\n",
      "[02:44:19] WARNING: not removing hydrogen atom without neighbors\n",
      "[02:44:19] WARNING: not removing hydrogen atom without neighbors\n",
      "[02:44:19] WARNING: not removing hydrogen atom without neighbors\n",
      "[02:44:19] WARNING: not removing hydrogen atom without neighbors\n",
      "[02:44:19] WARNING: not removing hydrogen atom without neighbors\n",
      "[02:44:19] WARNING: not removing hydrogen atom without neighbors\n",
      "[02:44:19] WARNING: not removing hydrogen atom without neighbors\n",
      "[02:44:19] WARNING: not removing hydrogen atom without neighbors\n",
      "[02:44:19] WARNING: not removing hydrogen atom without neighbors\n",
      "[02:44:19] WARNING: not removing hydrogen atom without neighbors\n",
      "[02:44:19] WARNING: not removing hydrogen atom without neighbors\n",
      "[02:44:19] WARNING: not removing hydrogen atom without neighbors\n",
      "[02:44:19] WARNING: not removing hydrogen atom without neighbors\n",
      "[02:44:19] WARNING: not removing hydrogen atom without neighbors\n",
      "[02:44:19] WARNING: not removing hydrogen atom without neighbors\n",
      "[02:44:19] WARNING: not removing hydrogen atom without neighbors\n",
      "[02:44:19] WARNING: not removing hydrogen atom without neighbors\n",
      "[02:44:19] WARNING: not removing hydrogen atom without neighbors\n",
      "[02:44:19] WARNING: not removing hydrogen atom without neighbors\n",
      "[02:44:19] WARNING: not removing hydrogen atom without neighbors\n",
      "[02:44:19] WARNING: not removing hydrogen atom without neighbors\n",
      "[02:44:19] WARNING: not removing hydrogen atom without neighbors\n",
      "[02:44:19] WARNING: not removing hydrogen atom without neighbors\n",
      "[02:44:19] WARNING: not removing hydrogen atom without neighbors\n",
      "[02:44:19] WARNING: not removing hydrogen atom without neighbors\n",
      "[02:44:19] WARNING: not removing hydrogen atom without neighbors\n",
      "[02:44:19] WARNING: not removing hydrogen atom without neighbors\n",
      "[02:44:19] WARNING: not removing hydrogen atom without neighbors\n",
      "[02:44:19] WARNING: not removing hydrogen atom without neighbors\n",
      "[02:44:19] WARNING: not removing hydrogen atom without neighbors\n",
      "[02:44:19] WARNING: not removing hydrogen atom without neighbors\n",
      "[02:44:19] WARNING: not removing hydrogen atom without neighbors\n",
      "[02:44:19] WARNING: not removing hydrogen atom without neighbors\n",
      "[02:44:19] WARNING: not removing hydrogen atom without neighbors\n",
      "[02:44:19] WARNING: not removing hydrogen atom without neighbors\n",
      "[02:44:19] WARNING: not removing hydrogen atom without neighbors\n",
      "[02:44:19] WARNING: not removing hydrogen atom without neighbors\n",
      "[02:44:19] WARNING: not removing hydrogen atom without neighbors\n",
      "[02:44:19] WARNING: not removing hydrogen atom without neighbors\n",
      "[02:44:19] WARNING: not removing hydrogen atom without neighbors\n",
      "[02:44:19] WARNING: not removing hydrogen atom without neighbors\n",
      "[02:44:19] WARNING: not removing hydrogen atom without neighbors\n"
     ]
    }
   ],
   "source": [
    "# Load and preprocess dataset\n",
    "df = preproccess_data(\"./data/curated-solubility-dataset.csv\")\n",
    "\n",
    "# Add scaffold column\n",
    "df[\"scaffold\"] = df[\"mol\"].apply(get_scaffolds)"
   ]
  },
  {
   "cell_type": "code",
   "execution_count": 42,
   "metadata": {},
   "outputs": [],
   "source": [
    "# Split by scaffold\n",
    "train_idx, val_idx, test_idx = generate_scaffold_split(df, frac_train=0.8, frac_valid=0.1, frac_test=0.1)\n",
    "test_df = df.iloc[test_idx].reset_index(drop=True)"
   ]
  },
  {
   "cell_type": "code",
   "execution_count": 43,
   "metadata": {},
   "outputs": [],
   "source": [
    "# Convert test split to graph list\n",
    "test_dataset = df_to_graph_list(test_df)\n",
    "test_loader = DataLoader(test_dataset, batch_size=1, shuffle=False)"
   ]
  },
  {
   "cell_type": "code",
   "execution_count": 44,
   "metadata": {},
   "outputs": [
    {
     "name": "stderr",
     "output_type": "stream",
     "text": [
      "/Users/tanishsharma/Documents/uoft/2nd_sem_3rd_yr/ece324/BioSolveAI/interpret_utils.py:63: FutureWarning: You are using `torch.load` with `weights_only=False` (the current default value), which uses the default pickle module implicitly. It is possible to construct malicious pickle data which will execute arbitrary code during unpickling (See https://github.com/pytorch/pytorch/blob/main/SECURITY.md#untrusted-models for more details). In a future release, the default value for `weights_only` will be flipped to `True`. This limits the functions that could be executed during unpickling. Arbitrary objects will no longer be allowed to be loaded via this mode unless they are explicitly allowlisted by the user via `torch.serialization.add_safe_globals`. We recommend you start setting `weights_only=True` for any use case where you don't have full control of the loaded file. Please open an issue on GitHub for any issues related to this experimental feature.\n",
      "  model.load_state_dict(torch.load(model_path, map_location=device))\n"
     ]
    }
   ],
   "source": [
    "# Load best model\n",
    "model = load_trained_model(\"best_model.pth\", model_args=model_args, device=\"cpu\")"
   ]
  },
  {
   "cell_type": "code",
   "execution_count": null,
   "metadata": {},
   "outputs": [],
   "source": []
  },
  {
   "cell_type": "code",
   "execution_count": null,
   "metadata": {},
   "outputs": [],
   "source": []
  }
 ],
 "metadata": {
  "kernelspec": {
   "display_name": "Python 3",
   "language": "python",
   "name": "python3"
  },
  "language_info": {
   "codemirror_mode": {
    "name": "ipython",
    "version": 3
   },
   "file_extension": ".py",
   "mimetype": "text/x-python",
   "name": "python",
   "nbconvert_exporter": "python",
   "pygments_lexer": "ipython3",
   "version": "3.10.16"
  }
 },
 "nbformat": 4,
 "nbformat_minor": 2
}
