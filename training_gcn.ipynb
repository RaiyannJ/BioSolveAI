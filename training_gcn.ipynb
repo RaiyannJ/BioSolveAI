{
  "nbformat": 4,
  "nbformat_minor": 0,
  "metadata": {
    "colab": {
      "provenance": []
    },
    "kernelspec": {
      "name": "python3",
      "display_name": "Python 3"
    },
    "language_info": {
      "name": "python"
    }
  },
  "cells": [
    {
      "cell_type": "code",
      "execution_count": 1,
      "metadata": {
        "colab": {
          "base_uri": "https://localhost:8080/"
        },
        "id": "eAr9WDzquGF8",
        "outputId": "133789e6-4aec-4b1e-e9dc-5ce5b76f2785",
        "collapsed": true
      },
      "outputs": [
        {
          "output_type": "stream",
          "name": "stdout",
          "text": [
            "Collecting torch_geometric\n",
            "  Downloading torch_geometric-2.6.1-py3-none-any.whl.metadata (63 kB)\n",
            "\u001b[?25l     \u001b[90m━━━━━━━━━━━━━━━━━━━━━━━━━━━━━━━━━━━━━━━━\u001b[0m \u001b[32m0.0/63.1 kB\u001b[0m \u001b[31m?\u001b[0m eta \u001b[36m-:--:--\u001b[0m\r\u001b[2K     \u001b[90m━━━━━━━━━━━━━━━━━━━━━━━━━━━━━━━━━━━━━━━━\u001b[0m \u001b[32m63.1/63.1 kB\u001b[0m \u001b[31m3.0 MB/s\u001b[0m eta \u001b[36m0:00:00\u001b[0m\n",
            "\u001b[?25hRequirement already satisfied: aiohttp in /usr/local/lib/python3.11/dist-packages (from torch_geometric) (3.11.14)\n",
            "Requirement already satisfied: fsspec in /usr/local/lib/python3.11/dist-packages (from torch_geometric) (2025.3.0)\n",
            "Requirement already satisfied: jinja2 in /usr/local/lib/python3.11/dist-packages (from torch_geometric) (3.1.6)\n",
            "Requirement already satisfied: numpy in /usr/local/lib/python3.11/dist-packages (from torch_geometric) (2.0.2)\n",
            "Requirement already satisfied: psutil>=5.8.0 in /usr/local/lib/python3.11/dist-packages (from torch_geometric) (5.9.5)\n",
            "Requirement already satisfied: pyparsing in /usr/local/lib/python3.11/dist-packages (from torch_geometric) (3.2.3)\n",
            "Requirement already satisfied: requests in /usr/local/lib/python3.11/dist-packages (from torch_geometric) (2.32.3)\n",
            "Requirement already satisfied: tqdm in /usr/local/lib/python3.11/dist-packages (from torch_geometric) (4.67.1)\n",
            "Requirement already satisfied: aiohappyeyeballs>=2.3.0 in /usr/local/lib/python3.11/dist-packages (from aiohttp->torch_geometric) (2.6.1)\n",
            "Requirement already satisfied: aiosignal>=1.1.2 in /usr/local/lib/python3.11/dist-packages (from aiohttp->torch_geometric) (1.3.2)\n",
            "Requirement already satisfied: attrs>=17.3.0 in /usr/local/lib/python3.11/dist-packages (from aiohttp->torch_geometric) (25.3.0)\n",
            "Requirement already satisfied: frozenlist>=1.1.1 in /usr/local/lib/python3.11/dist-packages (from aiohttp->torch_geometric) (1.5.0)\n",
            "Requirement already satisfied: multidict<7.0,>=4.5 in /usr/local/lib/python3.11/dist-packages (from aiohttp->torch_geometric) (6.2.0)\n",
            "Requirement already satisfied: propcache>=0.2.0 in /usr/local/lib/python3.11/dist-packages (from aiohttp->torch_geometric) (0.3.1)\n",
            "Requirement already satisfied: yarl<2.0,>=1.17.0 in /usr/local/lib/python3.11/dist-packages (from aiohttp->torch_geometric) (1.18.3)\n",
            "Requirement already satisfied: MarkupSafe>=2.0 in /usr/local/lib/python3.11/dist-packages (from jinja2->torch_geometric) (3.0.2)\n",
            "Requirement already satisfied: charset-normalizer<4,>=2 in /usr/local/lib/python3.11/dist-packages (from requests->torch_geometric) (3.4.1)\n",
            "Requirement already satisfied: idna<4,>=2.5 in /usr/local/lib/python3.11/dist-packages (from requests->torch_geometric) (3.10)\n",
            "Requirement already satisfied: urllib3<3,>=1.21.1 in /usr/local/lib/python3.11/dist-packages (from requests->torch_geometric) (2.3.0)\n",
            "Requirement already satisfied: certifi>=2017.4.17 in /usr/local/lib/python3.11/dist-packages (from requests->torch_geometric) (2025.1.31)\n",
            "Downloading torch_geometric-2.6.1-py3-none-any.whl (1.1 MB)\n",
            "\u001b[2K   \u001b[90m━━━━━━━━━━━━━━━━━━━━━━━━━━━━━━━━━━━━━━━━\u001b[0m \u001b[32m1.1/1.1 MB\u001b[0m \u001b[31m29.5 MB/s\u001b[0m eta \u001b[36m0:00:00\u001b[0m\n",
            "\u001b[?25hInstalling collected packages: torch_geometric\n",
            "Successfully installed torch_geometric-2.6.1\n",
            "Collecting rdkit\n",
            "  Downloading rdkit-2024.9.6-cp311-cp311-manylinux_2_28_x86_64.whl.metadata (4.0 kB)\n",
            "Requirement already satisfied: numpy in /usr/local/lib/python3.11/dist-packages (from rdkit) (2.0.2)\n",
            "Requirement already satisfied: Pillow in /usr/local/lib/python3.11/dist-packages (from rdkit) (11.1.0)\n",
            "Downloading rdkit-2024.9.6-cp311-cp311-manylinux_2_28_x86_64.whl (34.3 MB)\n",
            "\u001b[2K   \u001b[90m━━━━━━━━━━━━━━━━━━━━━━━━━━━━━━━━━━━━━━━━\u001b[0m \u001b[32m34.3/34.3 MB\u001b[0m \u001b[31m36.1 MB/s\u001b[0m eta \u001b[36m0:00:00\u001b[0m\n",
            "\u001b[?25hInstalling collected packages: rdkit\n",
            "Successfully installed rdkit-2024.9.6\n",
            "Requirement already satisfied: umap-learn in /usr/local/lib/python3.11/dist-packages (0.5.7)\n",
            "Requirement already satisfied: numpy>=1.17 in /usr/local/lib/python3.11/dist-packages (from umap-learn) (2.0.2)\n",
            "Requirement already satisfied: scipy>=1.3.1 in /usr/local/lib/python3.11/dist-packages (from umap-learn) (1.14.1)\n",
            "Requirement already satisfied: scikit-learn>=0.22 in /usr/local/lib/python3.11/dist-packages (from umap-learn) (1.6.1)\n",
            "Requirement already satisfied: numba>=0.51.2 in /usr/local/lib/python3.11/dist-packages (from umap-learn) (0.60.0)\n",
            "Requirement already satisfied: pynndescent>=0.5 in /usr/local/lib/python3.11/dist-packages (from umap-learn) (0.5.13)\n",
            "Requirement already satisfied: tqdm in /usr/local/lib/python3.11/dist-packages (from umap-learn) (4.67.1)\n",
            "Requirement already satisfied: llvmlite<0.44,>=0.43.0dev0 in /usr/local/lib/python3.11/dist-packages (from numba>=0.51.2->umap-learn) (0.43.0)\n",
            "Requirement already satisfied: joblib>=0.11 in /usr/local/lib/python3.11/dist-packages (from pynndescent>=0.5->umap-learn) (1.4.2)\n",
            "Requirement already satisfied: threadpoolctl>=3.1.0 in /usr/local/lib/python3.11/dist-packages (from scikit-learn>=0.22->umap-learn) (3.6.0)\n",
            "Requirement already satisfied: hdbscan in /usr/local/lib/python3.11/dist-packages (0.8.40)\n",
            "Requirement already satisfied: numpy<3,>=1.20 in /usr/local/lib/python3.11/dist-packages (from hdbscan) (2.0.2)\n",
            "Requirement already satisfied: scipy>=1.0 in /usr/local/lib/python3.11/dist-packages (from hdbscan) (1.14.1)\n",
            "Requirement already satisfied: scikit-learn>=0.20 in /usr/local/lib/python3.11/dist-packages (from hdbscan) (1.6.1)\n",
            "Requirement already satisfied: joblib>=1.0 in /usr/local/lib/python3.11/dist-packages (from hdbscan) (1.4.2)\n",
            "Requirement already satisfied: threadpoolctl>=3.1.0 in /usr/local/lib/python3.11/dist-packages (from scikit-learn>=0.20->hdbscan) (3.6.0)\n",
            "Requirement already satisfied: pandas in /usr/local/lib/python3.11/dist-packages (2.2.2)\n",
            "Requirement already satisfied: numpy>=1.23.2 in /usr/local/lib/python3.11/dist-packages (from pandas) (2.0.2)\n",
            "Requirement already satisfied: python-dateutil>=2.8.2 in /usr/local/lib/python3.11/dist-packages (from pandas) (2.8.2)\n",
            "Requirement already satisfied: pytz>=2020.1 in /usr/local/lib/python3.11/dist-packages (from pandas) (2025.2)\n",
            "Requirement already satisfied: tzdata>=2022.7 in /usr/local/lib/python3.11/dist-packages (from pandas) (2025.2)\n",
            "Requirement already satisfied: six>=1.5 in /usr/local/lib/python3.11/dist-packages (from python-dateutil>=2.8.2->pandas) (1.17.0)\n",
            "Requirement already satisfied: matplotlib in /usr/local/lib/python3.11/dist-packages (3.10.0)\n",
            "Requirement already satisfied: contourpy>=1.0.1 in /usr/local/lib/python3.11/dist-packages (from matplotlib) (1.3.1)\n",
            "Requirement already satisfied: cycler>=0.10 in /usr/local/lib/python3.11/dist-packages (from matplotlib) (0.12.1)\n",
            "Requirement already satisfied: fonttools>=4.22.0 in /usr/local/lib/python3.11/dist-packages (from matplotlib) (4.56.0)\n",
            "Requirement already satisfied: kiwisolver>=1.3.1 in /usr/local/lib/python3.11/dist-packages (from matplotlib) (1.4.8)\n",
            "Requirement already satisfied: numpy>=1.23 in /usr/local/lib/python3.11/dist-packages (from matplotlib) (2.0.2)\n",
            "Requirement already satisfied: packaging>=20.0 in /usr/local/lib/python3.11/dist-packages (from matplotlib) (24.2)\n",
            "Requirement already satisfied: pillow>=8 in /usr/local/lib/python3.11/dist-packages (from matplotlib) (11.1.0)\n",
            "Requirement already satisfied: pyparsing>=2.3.1 in /usr/local/lib/python3.11/dist-packages (from matplotlib) (3.2.3)\n",
            "Requirement already satisfied: python-dateutil>=2.7 in /usr/local/lib/python3.11/dist-packages (from matplotlib) (2.8.2)\n",
            "Requirement already satisfied: six>=1.5 in /usr/local/lib/python3.11/dist-packages (from python-dateutil>=2.7->matplotlib) (1.17.0)\n",
            "Requirement already satisfied: seaborn in /usr/local/lib/python3.11/dist-packages (0.13.2)\n",
            "Requirement already satisfied: numpy!=1.24.0,>=1.20 in /usr/local/lib/python3.11/dist-packages (from seaborn) (2.0.2)\n",
            "Requirement already satisfied: pandas>=1.2 in /usr/local/lib/python3.11/dist-packages (from seaborn) (2.2.2)\n",
            "Requirement already satisfied: matplotlib!=3.6.1,>=3.4 in /usr/local/lib/python3.11/dist-packages (from seaborn) (3.10.0)\n",
            "Requirement already satisfied: contourpy>=1.0.1 in /usr/local/lib/python3.11/dist-packages (from matplotlib!=3.6.1,>=3.4->seaborn) (1.3.1)\n",
            "Requirement already satisfied: cycler>=0.10 in /usr/local/lib/python3.11/dist-packages (from matplotlib!=3.6.1,>=3.4->seaborn) (0.12.1)\n",
            "Requirement already satisfied: fonttools>=4.22.0 in /usr/local/lib/python3.11/dist-packages (from matplotlib!=3.6.1,>=3.4->seaborn) (4.56.0)\n",
            "Requirement already satisfied: kiwisolver>=1.3.1 in /usr/local/lib/python3.11/dist-packages (from matplotlib!=3.6.1,>=3.4->seaborn) (1.4.8)\n",
            "Requirement already satisfied: packaging>=20.0 in /usr/local/lib/python3.11/dist-packages (from matplotlib!=3.6.1,>=3.4->seaborn) (24.2)\n",
            "Requirement already satisfied: pillow>=8 in /usr/local/lib/python3.11/dist-packages (from matplotlib!=3.6.1,>=3.4->seaborn) (11.1.0)\n",
            "Requirement already satisfied: pyparsing>=2.3.1 in /usr/local/lib/python3.11/dist-packages (from matplotlib!=3.6.1,>=3.4->seaborn) (3.2.3)\n",
            "Requirement already satisfied: python-dateutil>=2.7 in /usr/local/lib/python3.11/dist-packages (from matplotlib!=3.6.1,>=3.4->seaborn) (2.8.2)\n",
            "Requirement already satisfied: pytz>=2020.1 in /usr/local/lib/python3.11/dist-packages (from pandas>=1.2->seaborn) (2025.2)\n",
            "Requirement already satisfied: tzdata>=2022.7 in /usr/local/lib/python3.11/dist-packages (from pandas>=1.2->seaborn) (2025.2)\n",
            "Requirement already satisfied: six>=1.5 in /usr/local/lib/python3.11/dist-packages (from python-dateutil>=2.7->matplotlib!=3.6.1,>=3.4->seaborn) (1.17.0)\n",
            "Requirement already satisfied: scikit-learn in /usr/local/lib/python3.11/dist-packages (1.6.1)\n",
            "Requirement already satisfied: numpy>=1.19.5 in /usr/local/lib/python3.11/dist-packages (from scikit-learn) (2.0.2)\n",
            "Requirement already satisfied: scipy>=1.6.0 in /usr/local/lib/python3.11/dist-packages (from scikit-learn) (1.14.1)\n",
            "Requirement already satisfied: joblib>=1.2.0 in /usr/local/lib/python3.11/dist-packages (from scikit-learn) (1.4.2)\n",
            "Requirement already satisfied: threadpoolctl>=3.1.0 in /usr/local/lib/python3.11/dist-packages (from scikit-learn) (3.6.0)\n",
            "Requirement already satisfied: numpy in /usr/local/lib/python3.11/dist-packages (2.0.2)\n"
          ]
        }
      ],
      "source": [
        "!pip install torch_geometric\n",
        "!pip install rdkit\n",
        "!pip install umap-learn\n",
        "!pip install hdbscan\n",
        "!pip install pandas\n",
        "!pip install matplotlib\n",
        "!pip install seaborn\n",
        "!pip install scikit-learn\n",
        "!pip install numpy"
      ]
    },
    {
      "cell_type": "code",
      "source": [
        "import torch\n",
        "import torch.nn as nn\n",
        "import torch.optim as optim\n",
        "from torch_geometric.loader import DataLoader\n",
        "from torch.optim.lr_scheduler import CosineAnnealingLR\n",
        "from torch.utils.data import WeightedRandomSampler\n",
        "\n",
        "from data_loaders import preproccess_data, generate_scaffold_split, df_to_graph_list, get_scaffolds\n",
        "from gcn import GCN\n",
        "from train_utils import plot_losses, train, evaluate_model\n",
        "\n",
        "from sklearn.metrics import r2_score\n",
        "import numpy as np\n",
        "import scipy.stats as stats\n",
        "\n",
        "import toml\n",
        "\n",
        "from rdkit import RDLogger\n",
        "RDLogger.DisableLog('rdApp.*')\n",
        "\n",
        "device = torch.device(\"cuda\" if torch.cuda.is_available() else \"cpu\")\n",
        "print(device)"
      ],
      "metadata": {
        "colab": {
          "base_uri": "https://localhost:8080/"
        },
        "id": "Vk9UtGKyurQe",
        "outputId": "e2fc2cd3-831b-41f2-876d-f4bc8c1b0f34"
      },
      "execution_count": 3,
      "outputs": [
        {
          "output_type": "stream",
          "name": "stdout",
          "text": [
            "cpu\n"
          ]
        }
      ]
    },
    {
      "cell_type": "code",
      "source": [
        "# apply weighted calc to the train set (which is 1/freq) to handle scaffold imbalance\n",
        "def calc_weight(scaffold_val):\n",
        "    return 1.0 / scaffold_counts[scaffold_val]\n",
        "\n",
        "# need this in scope for the next code block"
      ],
      "metadata": {
        "id": "apOqzaowREZL"
      },
      "execution_count": 6,
      "outputs": []
    },
    {
      "cell_type": "code",
      "source": [
        "file_path = '/content/drive/MyDrive/BioSolveAI/data/curated-solubility-dataset.csv'\n",
        "df = preproccess_data(file_path)\n",
        "\n",
        "\n",
        "df['scaffold'] = df['mol'].apply(get_scaffolds)\n",
        "\n",
        "# scaffolds to get train, val, text\n",
        "train_idx, val_idx, test_idx = generate_scaffold_split(df)\n",
        "\n",
        "# Split the dataframe into train, val, and test\n",
        "train_df = df.iloc[train_idx]\n",
        "val_df = df.iloc[val_idx]\n",
        "test_df = df.iloc[test_idx]\n",
        "\n",
        "# sscaffold frequency weighting\n",
        "scaffold_counts = train_df['scaffold'].value_counts()\n",
        "train_df['sample_weight'] = train_df['scaffold'].apply(calc_weight)\n",
        "\n",
        "# create the WeightedRandomSampler using these sample weights\n",
        "weights = torch.tensor(train_df['sample_weight'].tolist(), dtype=torch.float)\n",
        "sampler = WeightedRandomSampler(weights, num_samples=len(weights), replacement=True)\n",
        "\n",
        "# df to graph list\n",
        "train_graph_list = df_to_graph_list(train_df)\n",
        "val_graph_list = df_to_graph_list(val_df)\n",
        "test_graph_list = df_to_graph_list(test_df)"
      ],
      "metadata": {
        "id": "TWWcWy5ov2JN",
        "colab": {
          "base_uri": "https://localhost:8080/"
        },
        "outputId": "dc16900c-0bc9-4c7e-90f7-efe80210a8a9"
      },
      "execution_count": 7,
      "outputs": [
        {
          "output_type": "stream",
          "name": "stderr",
          "text": [
            "<ipython-input-7-9cf783dbf101>:17: SettingWithCopyWarning: \n",
            "A value is trying to be set on a copy of a slice from a DataFrame.\n",
            "Try using .loc[row_indexer,col_indexer] = value instead\n",
            "\n",
            "See the caveats in the documentation: https://pandas.pydata.org/pandas-docs/stable/user_guide/indexing.html#returning-a-view-versus-a-copy\n",
            "  train_df['sample_weight'] = train_df['scaffold'].apply(calc_weight)\n"
          ]
        }
      ]
    },
    {
      "cell_type": "code",
      "source": [
        "config = toml.load(\"config.toml\")\n",
        "\n",
        "# access the parameters\n",
        "batch_size = config[\"BATCH_SIZE\"]\n",
        "epochs = config[\"EPOCHS\"]\n",
        "learning_rate = config[\"LEARNING_RATE\"]\n",
        "weight_decay = config[\"WEIGHT_DECAY\"]\n",
        "\n",
        "print(\"Batch size:\", batch_size)\n",
        "print(\"Epochs:\", epochs)\n",
        "print(\"Learning rate:\", learning_rate)\n",
        "print(\"Weight decay:\", weight_decay)"
      ],
      "metadata": {
        "colab": {
          "base_uri": "https://localhost:8080/"
        },
        "id": "AfpKV_-qwvrn",
        "outputId": "05738bfe-26ab-40b6-856b-42c013efe559"
      },
      "execution_count": 8,
      "outputs": [
        {
          "output_type": "stream",
          "name": "stdout",
          "text": [
            "Batch size: 32\n",
            "Epochs: 60\n",
            "Learning rate: 0.0008935532131641973\n",
            "Weight decay: 0.006955968863499973\n"
          ]
        }
      ]
    },
    {
      "cell_type": "code",
      "source": [
        "train_loader = DataLoader(train_graph_list, batch_size=batch_size, shuffle=True)\n",
        "val_loader = DataLoader(val_graph_list, batch_size=batch_size, shuffle=False)\n",
        "test_loader = DataLoader(test_graph_list, batch_size=batch_size, shuffle=False)"
      ],
      "metadata": {
        "id": "WN_aYXK8wcdc"
      },
      "execution_count": 9,
      "outputs": []
    },
    {
      "cell_type": "code",
      "source": [
        "num_node_dim = train_graph_list[0].x.shape[1]\n",
        "edge_attr_dim = train_graph_list[0].edge_attr.shape[1]\n",
        "u_dim = train_graph_list[0].u.shape[1]\n",
        "\n",
        "# init model\n",
        "model = GCN(num_node_features=num_node_dim,\n",
        "            edge_attr_dim=edge_attr_dim,\n",
        "            u_dim=u_dim,\n",
        "            hidden_dim=64,\n",
        "            output_dim=1).to(device)\n",
        "\n",
        "train(model, train_loader, val_loader, epochs, learning_rate, weight_decay, device);\n"
      ],
      "metadata": {
        "colab": {
          "base_uri": "https://localhost:8080/",
          "height": 1000
        },
        "id": "QSKOBnIbxL4U",
        "outputId": "9029b30b-d6e1-4bcd-bd38-a17ba084ed51"
      },
      "execution_count": 10,
      "outputs": [
        {
          "output_type": "stream",
          "name": "stdout",
          "text": [
            "Epoch: 1, Train Loss: 1.1001, Val Loss: 0.4427\n",
            "Epoch: 2, Train Loss: 0.6560, Val Loss: 0.3875\n",
            "Epoch: 3, Train Loss: 0.5644, Val Loss: 0.4021\n",
            "Epoch: 4, Train Loss: 0.5326, Val Loss: 0.3543\n",
            "Epoch: 5, Train Loss: 0.5078, Val Loss: 0.3243\n",
            "Epoch: 6, Train Loss: 0.4834, Val Loss: 0.2990\n",
            "Epoch: 7, Train Loss: 0.4663, Val Loss: 0.2798\n",
            "Epoch: 8, Train Loss: 0.4623, Val Loss: 0.2935\n",
            "Epoch: 9, Train Loss: 0.4337, Val Loss: 0.3258\n",
            "Epoch: 10, Train Loss: 0.4228, Val Loss: 0.2766\n",
            "Epoch: 11, Train Loss: 0.4123, Val Loss: 0.2562\n",
            "Epoch: 12, Train Loss: 0.4022, Val Loss: 0.2528\n",
            "Epoch: 13, Train Loss: 0.3889, Val Loss: 0.2664\n",
            "Epoch: 14, Train Loss: 0.3867, Val Loss: 0.2744\n",
            "Epoch: 15, Train Loss: 0.3750, Val Loss: 0.2567\n",
            "Epoch: 16, Train Loss: 0.3716, Val Loss: 0.2646\n",
            "Epoch: 17, Train Loss: 0.3682, Val Loss: 0.2488\n",
            "Epoch: 18, Train Loss: 0.3599, Val Loss: 0.2510\n",
            "Epoch: 19, Train Loss: 0.3596, Val Loss: 0.2463\n",
            "Epoch: 20, Train Loss: 0.3505, Val Loss: 0.2499\n",
            "Epoch: 21, Train Loss: 0.3567, Val Loss: 0.2587\n",
            "Epoch: 22, Train Loss: 0.3494, Val Loss: 0.2497\n",
            "Epoch: 23, Train Loss: 0.3469, Val Loss: 0.2571\n",
            "Epoch: 24, Train Loss: 0.3369, Val Loss: 0.2438\n",
            "Epoch: 25, Train Loss: 0.3488, Val Loss: 0.2510\n",
            "Epoch: 26, Train Loss: 0.3383, Val Loss: 0.2422\n",
            "Epoch: 27, Train Loss: 0.3312, Val Loss: 0.2695\n",
            "Epoch: 28, Train Loss: 0.3285, Val Loss: 0.2382\n",
            "Epoch: 29, Train Loss: 0.3355, Val Loss: 0.2416\n",
            "Epoch: 30, Train Loss: 0.3266, Val Loss: 0.2851\n",
            "Epoch: 31, Train Loss: 0.3313, Val Loss: 0.2450\n",
            "Epoch: 32, Train Loss: 0.3195, Val Loss: 0.2512\n",
            "Epoch: 33, Train Loss: 0.3176, Val Loss: 0.2625\n",
            "Epoch: 34, Train Loss: 0.3224, Val Loss: 0.2475\n",
            "Epoch: 35, Train Loss: 0.3201, Val Loss: 0.2507\n",
            "Epoch: 36, Train Loss: 0.3169, Val Loss: 0.2542\n",
            "Epoch: 37, Train Loss: 0.3141, Val Loss: 0.2661\n",
            "Epoch: 38, Train Loss: 0.3115, Val Loss: 0.2527\n",
            "Epoch: 39, Train Loss: 0.3120, Val Loss: 0.2555\n",
            "Epoch: 40, Train Loss: 0.3049, Val Loss: 0.2547\n",
            "Epoch: 41, Train Loss: 0.3063, Val Loss: 0.2507\n",
            "Epoch: 42, Train Loss: 0.3016, Val Loss: 0.2513\n",
            "Epoch: 43, Train Loss: 0.3076, Val Loss: 0.2510\n",
            "Epoch: 44, Train Loss: 0.2978, Val Loss: 0.2530\n",
            "Epoch: 45, Train Loss: 0.2991, Val Loss: 0.2545\n",
            "Epoch: 46, Train Loss: 0.2975, Val Loss: 0.2600\n",
            "Epoch: 47, Train Loss: 0.3014, Val Loss: 0.2532\n",
            "Epoch: 48, Train Loss: 0.2972, Val Loss: 0.2553\n",
            "Epoch: 49, Train Loss: 0.2985, Val Loss: 0.2552\n",
            "Epoch: 50, Train Loss: 0.3019, Val Loss: 0.2521\n",
            "Epoch: 51, Train Loss: 0.2996, Val Loss: 0.2510\n",
            "Epoch: 52, Train Loss: 0.2965, Val Loss: 0.2540\n",
            "Epoch: 53, Train Loss: 0.2964, Val Loss: 0.2529\n",
            "Epoch: 54, Train Loss: 0.2910, Val Loss: 0.2554\n",
            "Epoch: 55, Train Loss: 0.2902, Val Loss: 0.2563\n",
            "Epoch: 56, Train Loss: 0.2964, Val Loss: 0.2544\n",
            "Epoch: 57, Train Loss: 0.2947, Val Loss: 0.2535\n",
            "Epoch: 58, Train Loss: 0.2937, Val Loss: 0.2543\n",
            "Epoch: 59, Train Loss: 0.2961, Val Loss: 0.2540\n",
            "Epoch: 60, Train Loss: 0.2949, Val Loss: 0.2541\n"
          ]
        },
        {
          "output_type": "display_data",
          "data": {
            "text/plain": [
              "<Figure size 1000x600 with 1 Axes>"
            ],
            "image/png": "[encoded data removed]"
          },
          "metadata": {}
        }
      ]
    },
    {
      "cell_type": "code",
      "source": [
        "evaluate_model(model, test_loader, device);"
      ],
      "metadata": {
        "id": "xNd-tSqV4bSu",
        "outputId": "fccd1d45-8f8b-4cca-e824-6f2afb188a6d",
        "colab": {
          "base_uri": "https://localhost:8080/"
        }
      },
      "execution_count": 14,
      "outputs": [
        {
          "output_type": "stream",
          "name": "stdout",
          "text": [
            "Test RMSE: 0.4362 with 95% CI: [0.4103, 0.4606]\n",
            "Test R²: 0.7144 with 95% CI: [0.6743, 0.7509]\n"
          ]
        }
      ]
    }
  ]
}