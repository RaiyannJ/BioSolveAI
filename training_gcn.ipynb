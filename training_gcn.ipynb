{
  "nbformat": 4,
  "nbformat_minor": 0,
  "metadata": {
    "colab": {
      "provenance": []
    },
    "kernelspec": {
      "name": "python3",
      "display_name": "Python 3"
    },
    "language_info": {
      "name": "python"
    }
  },
  "cells": [
    {
      "cell_type": "code",
      "execution_count": 1,
      "metadata": {
        "colab": {
          "base_uri": "https://localhost:8080/"
        },
        "id": "eAr9WDzquGF8",
        "outputId": "87f0ad20-87ca-4892-d274-642ed2129777"
      },
      "outputs": [
        {
          "output_type": "stream",
          "name": "stdout",
          "text": [
            "Collecting torch_geometric\n",
            "  Downloading torch_geometric-2.6.1-py3-none-any.whl.metadata (63 kB)\n",
            "\u001b[?25l     \u001b[90m━━━━━━━━━━━━━━━━━━━━━━━━━━━━━━━━━━━━━━━━\u001b[0m \u001b[32m0.0/63.1 kB\u001b[0m \u001b[31m?\u001b[0m eta \u001b[36m-:--:--\u001b[0m\r\u001b[2K     \u001b[90m━━━━━━━━━━━━━━━━━━━━━━━━━━━━━━━━━━━━━━━━\u001b[0m \u001b[32m63.1/63.1 kB\u001b[0m \u001b[31m2.4 MB/s\u001b[0m eta \u001b[36m0:00:00\u001b[0m\n",
            "\u001b[?25hRequirement already satisfied: aiohttp in /usr/local/lib/python3.11/dist-packages (from torch_geometric) (3.11.14)\n",
            "Requirement already satisfied: fsspec in /usr/local/lib/python3.11/dist-packages (from torch_geometric) (2025.3.0)\n",
            "Requirement already satisfied: jinja2 in /usr/local/lib/python3.11/dist-packages (from torch_geometric) (3.1.6)\n",
            "Requirement already satisfied: numpy in /usr/local/lib/python3.11/dist-packages (from torch_geometric) (2.0.2)\n",
            "Requirement already satisfied: psutil>=5.8.0 in /usr/local/lib/python3.11/dist-packages (from torch_geometric) (5.9.5)\n",
            "Requirement already satisfied: pyparsing in /usr/local/lib/python3.11/dist-packages (from torch_geometric) (3.2.3)\n",
            "Requirement already satisfied: requests in /usr/local/lib/python3.11/dist-packages (from torch_geometric) (2.32.3)\n",
            "Requirement already satisfied: tqdm in /usr/local/lib/python3.11/dist-packages (from torch_geometric) (4.67.1)\n",
            "Requirement already satisfied: aiohappyeyeballs>=2.3.0 in /usr/local/lib/python3.11/dist-packages (from aiohttp->torch_geometric) (2.6.1)\n",
            "Requirement already satisfied: aiosignal>=1.1.2 in /usr/local/lib/python3.11/dist-packages (from aiohttp->torch_geometric) (1.3.2)\n",
            "Requirement already satisfied: attrs>=17.3.0 in /usr/local/lib/python3.11/dist-packages (from aiohttp->torch_geometric) (25.3.0)\n",
            "Requirement already satisfied: frozenlist>=1.1.1 in /usr/local/lib/python3.11/dist-packages (from aiohttp->torch_geometric) (1.5.0)\n",
            "Requirement already satisfied: multidict<7.0,>=4.5 in /usr/local/lib/python3.11/dist-packages (from aiohttp->torch_geometric) (6.2.0)\n",
            "Requirement already satisfied: propcache>=0.2.0 in /usr/local/lib/python3.11/dist-packages (from aiohttp->torch_geometric) (0.3.1)\n",
            "Requirement already satisfied: yarl<2.0,>=1.17.0 in /usr/local/lib/python3.11/dist-packages (from aiohttp->torch_geometric) (1.18.3)\n",
            "Requirement already satisfied: MarkupSafe>=2.0 in /usr/local/lib/python3.11/dist-packages (from jinja2->torch_geometric) (3.0.2)\n",
            "Requirement already satisfied: charset-normalizer<4,>=2 in /usr/local/lib/python3.11/dist-packages (from requests->torch_geometric) (3.4.1)\n",
            "Requirement already satisfied: idna<4,>=2.5 in /usr/local/lib/python3.11/dist-packages (from requests->torch_geometric) (3.10)\n",
            "Requirement already satisfied: urllib3<3,>=1.21.1 in /usr/local/lib/python3.11/dist-packages (from requests->torch_geometric) (2.3.0)\n",
            "Requirement already satisfied: certifi>=2017.4.17 in /usr/local/lib/python3.11/dist-packages (from requests->torch_geometric) (2025.1.31)\n",
            "Downloading torch_geometric-2.6.1-py3-none-any.whl (1.1 MB)\n",
            "\u001b[2K   \u001b[90m━━━━━━━━━━━━━━━━━━━━━━━━━━━━━━━━━━━━━━━━\u001b[0m \u001b[32m1.1/1.1 MB\u001b[0m \u001b[31m10.4 MB/s\u001b[0m eta \u001b[36m0:00:00\u001b[0m\n",
            "\u001b[?25hInstalling collected packages: torch_geometric\n",
            "Successfully installed torch_geometric-2.6.1\n",
            "Collecting rdkit\n",
            "  Downloading rdkit-2024.9.6-cp311-cp311-manylinux_2_28_x86_64.whl.metadata (4.0 kB)\n",
            "Requirement already satisfied: numpy in /usr/local/lib/python3.11/dist-packages (from rdkit) (2.0.2)\n",
            "Requirement already satisfied: Pillow in /usr/local/lib/python3.11/dist-packages (from rdkit) (11.1.0)\n",
            "Downloading rdkit-2024.9.6-cp311-cp311-manylinux_2_28_x86_64.whl (34.3 MB)\n",
            "\u001b[2K   \u001b[90m━━━━━━━━━━━━━━━━━━━━━━━━━━━━━━━━━━━━━━━━\u001b[0m \u001b[32m34.3/34.3 MB\u001b[0m \u001b[31m19.4 MB/s\u001b[0m eta \u001b[36m0:00:00\u001b[0m\n",
            "\u001b[?25hInstalling collected packages: rdkit\n",
            "Successfully installed rdkit-2024.9.6\n",
            "Requirement already satisfied: umap-learn in /usr/local/lib/python3.11/dist-packages (0.5.7)\n",
            "Requirement already satisfied: numpy>=1.17 in /usr/local/lib/python3.11/dist-packages (from umap-learn) (2.0.2)\n",
            "Requirement already satisfied: scipy>=1.3.1 in /usr/local/lib/python3.11/dist-packages (from umap-learn) (1.14.1)\n",
            "Requirement already satisfied: scikit-learn>=0.22 in /usr/local/lib/python3.11/dist-packages (from umap-learn) (1.6.1)\n",
            "Requirement already satisfied: numba>=0.51.2 in /usr/local/lib/python3.11/dist-packages (from umap-learn) (0.60.0)\n",
            "Requirement already satisfied: pynndescent>=0.5 in /usr/local/lib/python3.11/dist-packages (from umap-learn) (0.5.13)\n",
            "Requirement already satisfied: tqdm in /usr/local/lib/python3.11/dist-packages (from umap-learn) (4.67.1)\n",
            "Requirement already satisfied: llvmlite<0.44,>=0.43.0dev0 in /usr/local/lib/python3.11/dist-packages (from numba>=0.51.2->umap-learn) (0.43.0)\n",
            "Requirement already satisfied: joblib>=0.11 in /usr/local/lib/python3.11/dist-packages (from pynndescent>=0.5->umap-learn) (1.4.2)\n",
            "Requirement already satisfied: threadpoolctl>=3.1.0 in /usr/local/lib/python3.11/dist-packages (from scikit-learn>=0.22->umap-learn) (3.6.0)\n",
            "Requirement already satisfied: hdbscan in /usr/local/lib/python3.11/dist-packages (0.8.40)\n",
            "Requirement already satisfied: numpy<3,>=1.20 in /usr/local/lib/python3.11/dist-packages (from hdbscan) (2.0.2)\n",
            "Requirement already satisfied: scipy>=1.0 in /usr/local/lib/python3.11/dist-packages (from hdbscan) (1.14.1)\n",
            "Requirement already satisfied: scikit-learn>=0.20 in /usr/local/lib/python3.11/dist-packages (from hdbscan) (1.6.1)\n",
            "Requirement already satisfied: joblib>=1.0 in /usr/local/lib/python3.11/dist-packages (from hdbscan) (1.4.2)\n",
            "Requirement already satisfied: threadpoolctl>=3.1.0 in /usr/local/lib/python3.11/dist-packages (from scikit-learn>=0.20->hdbscan) (3.6.0)\n",
            "Requirement already satisfied: pandas in /usr/local/lib/python3.11/dist-packages (2.2.2)\n",
            "Requirement already satisfied: numpy>=1.23.2 in /usr/local/lib/python3.11/dist-packages (from pandas) (2.0.2)\n",
            "Requirement already satisfied: python-dateutil>=2.8.2 in /usr/local/lib/python3.11/dist-packages (from pandas) (2.8.2)\n",
            "Requirement already satisfied: pytz>=2020.1 in /usr/local/lib/python3.11/dist-packages (from pandas) (2025.2)\n",
            "Requirement already satisfied: tzdata>=2022.7 in /usr/local/lib/python3.11/dist-packages (from pandas) (2025.2)\n",
            "Requirement already satisfied: six>=1.5 in /usr/local/lib/python3.11/dist-packages (from python-dateutil>=2.8.2->pandas) (1.17.0)\n",
            "Requirement already satisfied: matplotlib in /usr/local/lib/python3.11/dist-packages (3.10.0)\n",
            "Requirement already satisfied: contourpy>=1.0.1 in /usr/local/lib/python3.11/dist-packages (from matplotlib) (1.3.1)\n",
            "Requirement already satisfied: cycler>=0.10 in /usr/local/lib/python3.11/dist-packages (from matplotlib) (0.12.1)\n",
            "Requirement already satisfied: fonttools>=4.22.0 in /usr/local/lib/python3.11/dist-packages (from matplotlib) (4.56.0)\n",
            "Requirement already satisfied: kiwisolver>=1.3.1 in /usr/local/lib/python3.11/dist-packages (from matplotlib) (1.4.8)\n",
            "Requirement already satisfied: numpy>=1.23 in /usr/local/lib/python3.11/dist-packages (from matplotlib) (2.0.2)\n",
            "Requirement already satisfied: packaging>=20.0 in /usr/local/lib/python3.11/dist-packages (from matplotlib) (24.2)\n",
            "Requirement already satisfied: pillow>=8 in /usr/local/lib/python3.11/dist-packages (from matplotlib) (11.1.0)\n",
            "Requirement already satisfied: pyparsing>=2.3.1 in /usr/local/lib/python3.11/dist-packages (from matplotlib) (3.2.3)\n",
            "Requirement already satisfied: python-dateutil>=2.7 in /usr/local/lib/python3.11/dist-packages (from matplotlib) (2.8.2)\n",
            "Requirement already satisfied: six>=1.5 in /usr/local/lib/python3.11/dist-packages (from python-dateutil>=2.7->matplotlib) (1.17.0)\n",
            "Requirement already satisfied: seaborn in /usr/local/lib/python3.11/dist-packages (0.13.2)\n",
            "Requirement already satisfied: numpy!=1.24.0,>=1.20 in /usr/local/lib/python3.11/dist-packages (from seaborn) (2.0.2)\n",
            "Requirement already satisfied: pandas>=1.2 in /usr/local/lib/python3.11/dist-packages (from seaborn) (2.2.2)\n",
            "Requirement already satisfied: matplotlib!=3.6.1,>=3.4 in /usr/local/lib/python3.11/dist-packages (from seaborn) (3.10.0)\n",
            "Requirement already satisfied: contourpy>=1.0.1 in /usr/local/lib/python3.11/dist-packages (from matplotlib!=3.6.1,>=3.4->seaborn) (1.3.1)\n",
            "Requirement already satisfied: cycler>=0.10 in /usr/local/lib/python3.11/dist-packages (from matplotlib!=3.6.1,>=3.4->seaborn) (0.12.1)\n",
            "Requirement already satisfied: fonttools>=4.22.0 in /usr/local/lib/python3.11/dist-packages (from matplotlib!=3.6.1,>=3.4->seaborn) (4.56.0)\n",
            "Requirement already satisfied: kiwisolver>=1.3.1 in /usr/local/lib/python3.11/dist-packages (from matplotlib!=3.6.1,>=3.4->seaborn) (1.4.8)\n",
            "Requirement already satisfied: packaging>=20.0 in /usr/local/lib/python3.11/dist-packages (from matplotlib!=3.6.1,>=3.4->seaborn) (24.2)\n",
            "Requirement already satisfied: pillow>=8 in /usr/local/lib/python3.11/dist-packages (from matplotlib!=3.6.1,>=3.4->seaborn) (11.1.0)\n",
            "Requirement already satisfied: pyparsing>=2.3.1 in /usr/local/lib/python3.11/dist-packages (from matplotlib!=3.6.1,>=3.4->seaborn) (3.2.3)\n",
            "Requirement already satisfied: python-dateutil>=2.7 in /usr/local/lib/python3.11/dist-packages (from matplotlib!=3.6.1,>=3.4->seaborn) (2.8.2)\n",
            "Requirement already satisfied: pytz>=2020.1 in /usr/local/lib/python3.11/dist-packages (from pandas>=1.2->seaborn) (2025.2)\n",
            "Requirement already satisfied: tzdata>=2022.7 in /usr/local/lib/python3.11/dist-packages (from pandas>=1.2->seaborn) (2025.2)\n",
            "Requirement already satisfied: six>=1.5 in /usr/local/lib/python3.11/dist-packages (from python-dateutil>=2.7->matplotlib!=3.6.1,>=3.4->seaborn) (1.17.0)\n",
            "Requirement already satisfied: scikit-learn in /usr/local/lib/python3.11/dist-packages (1.6.1)\n",
            "Requirement already satisfied: numpy>=1.19.5 in /usr/local/lib/python3.11/dist-packages (from scikit-learn) (2.0.2)\n",
            "Requirement already satisfied: scipy>=1.6.0 in /usr/local/lib/python3.11/dist-packages (from scikit-learn) (1.14.1)\n",
            "Requirement already satisfied: joblib>=1.2.0 in /usr/local/lib/python3.11/dist-packages (from scikit-learn) (1.4.2)\n",
            "Requirement already satisfied: threadpoolctl>=3.1.0 in /usr/local/lib/python3.11/dist-packages (from scikit-learn) (3.6.0)\n",
            "Requirement already satisfied: numpy in /usr/local/lib/python3.11/dist-packages (2.0.2)\n"
          ]
        }
      ],
      "source": [
        "!pip install torch_geometric\n",
        "!pip install rdkit\n",
        "!pip install umap-learn\n",
        "!pip install hdbscan\n",
        "!pip install pandas\n",
        "!pip install matplotlib\n",
        "!pip install seaborn\n",
        "!pip install scikit-learn\n",
        "!pip install numpy"
      ]
    },
    {
      "cell_type": "code",
      "source": [
        "import torch\n",
        "import torch.nn as nn\n",
        "import torch.optim as optim\n",
        "from torch_geometric.loader import DataLoader\n",
        "\n",
        "from data_loaders import preproccess_data, generate_scaffold_split, df_to_graph_list, get_scaffolds\n",
        "from gcn import GCN\n",
        "\n",
        "from sklearn.metrics import r2_score\n",
        "import numpy as np\n",
        "import scipy.stats as stats\n",
        "\n",
        "from torch.optim.lr_scheduler import CosineAnnealingLR\n",
        "\n",
        "from rdkit import RDLogger\n",
        "RDLogger.DisableLog('rdApp.*')\n",
        "\n",
        "import toml\n",
        "\n",
        "device = torch.device(\"cuda\" if torch.cuda.is_available() else \"cpu\")\n",
        "print(device)"
      ],
      "metadata": {
        "colab": {
          "base_uri": "https://localhost:8080/"
        },
        "id": "Vk9UtGKyurQe",
        "outputId": "d8a3774e-7f01-4403-c519-ab14f6f84d8f"
      },
      "execution_count": 3,
      "outputs": [
        {
          "output_type": "stream",
          "name": "stdout",
          "text": [
            "cpu\n"
          ]
        }
      ]
    },
    {
      "cell_type": "code",
      "source": [
        "file_path = '/content/drive/MyDrive/BioSolveAI/data/curated-solubility-dataset.csv'\n",
        "df = preproccess_data(file_path)\n",
        "\n",
        "\n",
        "df['scaffold'] = df['mol'].apply(get_scaffolds)\n",
        "\n",
        "# scaffolds to get train, val, text\n",
        "train_idx, val_idx, test_idx = generate_scaffold_split(df)\n",
        "\n",
        "# Split the dataframe into train, val, and test\n",
        "train_df = df.iloc[train_idx]\n",
        "val_df = df.iloc[val_idx]\n",
        "test_df = df.iloc[test_idx]\n",
        "\n",
        "# df to graph list\n",
        "train_graph_list = df_to_graph_list(train_df)\n",
        "val_graph_list = df_to_graph_list(val_df)\n",
        "test_graph_list = df_to_graph_list(test_df)"
      ],
      "metadata": {
        "id": "TWWcWy5ov2JN"
      },
      "execution_count": 4,
      "outputs": []
    },
    {
      "cell_type": "code",
      "source": [
        "config = toml.load(\"config.toml\")\n",
        "\n",
        "# access the parameters\n",
        "batch_size = config[\"BATCH_SIZE\"]\n",
        "epochs = config[\"EPOCHS\"]\n",
        "learning_rate = config[\"LEARNING_RATE\"]\n",
        "weight_decay = config[\"WEIGHT_DECAY\"]\n",
        "\n",
        "print(\"Batch size:\", batch_size)\n",
        "print(\"Epochs:\", epochs)\n",
        "print(\"Learning rate:\", learning_rate)\n",
        "print(\"Weight decay:\", weight_decay)"
      ],
      "metadata": {
        "colab": {
          "base_uri": "https://localhost:8080/"
        },
        "id": "AfpKV_-qwvrn",
        "outputId": "c62d1d69-5b4e-499f-87b9-9fc7fdae3f87"
      },
      "execution_count": 6,
      "outputs": [
        {
          "output_type": "stream",
          "name": "stdout",
          "text": [
            "Batch size: 32\n",
            "Epochs: 60\n",
            "Learning rate: 0.0008935532131641973\n",
            "Weight decay: 0.006955968863499973\n"
          ]
        }
      ]
    },
    {
      "cell_type": "code",
      "source": [
        "train_loader = DataLoader(train_graph_list, batch_size=batch_size, shuffle=True)\n",
        "val_loader = DataLoader(val_graph_list, batch_size=batch_size, shuffle=False)\n",
        "test_loader = DataLoader(test_graph_list, batch_size=batch_size, shuffle=False)"
      ],
      "metadata": {
        "id": "WN_aYXK8wcdc"
      },
      "execution_count": 7,
      "outputs": []
    },
    {
      "cell_type": "code",
      "source": [
        "from train_utils import plot_losses, train, evaluate_model\n",
        "\n",
        "num_node_dim = train_graph_list[0].x.shape[1]\n",
        "edge_attr_dim = train_graph_list[0].edge_attr.shape[1]\n",
        "u_dim = train_graph_list[0].u.shape[1]\n",
        "\n",
        "# init model\n",
        "model = GCN(num_node_features=num_node_dim,\n",
        "            edge_attr_dim=edge_attr_dim,\n",
        "            u_dim=u_dim,\n",
        "            hidden_dim=64,\n",
        "            output_dim=1).to(device)\n",
        "\n",
        "train(model, train_loader, val_loader, epochs, learning_rate, weight_decay, device);\n"
      ],
      "metadata": {
        "colab": {
          "base_uri": "https://localhost:8080/",
          "height": 1000
        },
        "id": "QSKOBnIbxL4U",
        "outputId": "26850653-99c3-4ae8-f4c5-678d7532e665"
      },
      "execution_count": 8,
      "outputs": [
        {
          "output_type": "stream",
          "name": "stdout",
          "text": [
            "Epoch: 1, Train Loss: 1.2104, Val Loss: 0.4014\n",
            "Epoch: 2, Train Loss: 0.6807, Val Loss: 0.3724\n",
            "Epoch: 3, Train Loss: 0.5871, Val Loss: 0.3884\n",
            "Epoch: 4, Train Loss: 0.5491, Val Loss: 0.3539\n",
            "Epoch: 5, Train Loss: 0.5069, Val Loss: 0.3237\n",
            "Epoch: 6, Train Loss: 0.4915, Val Loss: 0.3342\n",
            "Epoch: 7, Train Loss: 0.4645, Val Loss: 0.2964\n",
            "Epoch: 8, Train Loss: 0.4619, Val Loss: 0.3106\n",
            "Epoch: 9, Train Loss: 0.4424, Val Loss: 0.2948\n",
            "Epoch: 10, Train Loss: 0.4277, Val Loss: 0.2761\n",
            "Epoch: 11, Train Loss: 0.4142, Val Loss: 0.2631\n",
            "Epoch: 12, Train Loss: 0.4106, Val Loss: 0.2538\n",
            "Epoch: 13, Train Loss: 0.4004, Val Loss: 0.2760\n",
            "Epoch: 14, Train Loss: 0.3916, Val Loss: 0.2529\n",
            "Epoch: 15, Train Loss: 0.3854, Val Loss: 0.2559\n",
            "Epoch: 16, Train Loss: 0.3749, Val Loss: 0.2546\n",
            "Epoch: 17, Train Loss: 0.3717, Val Loss: 0.2526\n",
            "Epoch: 18, Train Loss: 0.3638, Val Loss: 0.2486\n",
            "Epoch: 19, Train Loss: 0.3620, Val Loss: 0.2380\n",
            "Epoch: 20, Train Loss: 0.3550, Val Loss: 0.2316\n",
            "Epoch: 21, Train Loss: 0.3506, Val Loss: 0.2578\n",
            "Epoch: 22, Train Loss: 0.3483, Val Loss: 0.2489\n",
            "Epoch: 23, Train Loss: 0.3409, Val Loss: 0.2540\n",
            "Epoch: 24, Train Loss: 0.3378, Val Loss: 0.2512\n",
            "Epoch: 25, Train Loss: 0.3309, Val Loss: 0.2346\n",
            "Epoch: 26, Train Loss: 0.3280, Val Loss: 0.2405\n",
            "Epoch: 27, Train Loss: 0.3276, Val Loss: 0.2665\n",
            "Epoch: 28, Train Loss: 0.3251, Val Loss: 0.2429\n",
            "Epoch: 29, Train Loss: 0.3188, Val Loss: 0.2390\n",
            "Epoch: 30, Train Loss: 0.3199, Val Loss: 0.3188\n",
            "Epoch: 31, Train Loss: 0.3159, Val Loss: 0.2474\n",
            "Epoch: 32, Train Loss: 0.3086, Val Loss: 0.2488\n",
            "Epoch: 33, Train Loss: 0.3148, Val Loss: 0.2784\n",
            "Epoch: 34, Train Loss: 0.3063, Val Loss: 0.2305\n",
            "Epoch: 35, Train Loss: 0.3099, Val Loss: 0.2353\n",
            "Epoch: 36, Train Loss: 0.3053, Val Loss: 0.2346\n",
            "Epoch: 37, Train Loss: 0.3011, Val Loss: 0.2425\n",
            "Epoch: 38, Train Loss: 0.3052, Val Loss: 0.2402\n",
            "Epoch: 39, Train Loss: 0.2972, Val Loss: 0.2500\n",
            "Epoch: 40, Train Loss: 0.2952, Val Loss: 0.2319\n",
            "Epoch: 41, Train Loss: 0.2942, Val Loss: 0.2468\n",
            "Epoch: 42, Train Loss: 0.2926, Val Loss: 0.2406\n",
            "Epoch: 43, Train Loss: 0.3010, Val Loss: 0.2369\n",
            "Epoch: 44, Train Loss: 0.2893, Val Loss: 0.2363\n",
            "Epoch: 45, Train Loss: 0.2864, Val Loss: 0.2344\n",
            "Epoch: 46, Train Loss: 0.2837, Val Loss: 0.2447\n",
            "Epoch: 47, Train Loss: 0.2901, Val Loss: 0.2422\n",
            "Epoch: 48, Train Loss: 0.2850, Val Loss: 0.2406\n",
            "Epoch: 49, Train Loss: 0.2828, Val Loss: 0.2449\n",
            "Epoch: 50, Train Loss: 0.2823, Val Loss: 0.2451\n",
            "Epoch: 51, Train Loss: 0.2808, Val Loss: 0.2332\n",
            "Epoch: 52, Train Loss: 0.2845, Val Loss: 0.2390\n",
            "Epoch: 53, Train Loss: 0.2852, Val Loss: 0.2416\n",
            "Epoch: 54, Train Loss: 0.2778, Val Loss: 0.2386\n",
            "Epoch: 55, Train Loss: 0.2787, Val Loss: 0.2423\n",
            "Epoch: 56, Train Loss: 0.2801, Val Loss: 0.2398\n",
            "Epoch: 57, Train Loss: 0.2823, Val Loss: 0.2394\n",
            "Epoch: 58, Train Loss: 0.2783, Val Loss: 0.2407\n",
            "Epoch: 59, Train Loss: 0.2785, Val Loss: 0.2407\n",
            "Epoch: 60, Train Loss: 0.2797, Val Loss: 0.2405\n"
          ]
        },
        {
          "output_type": "display_data",
          "data": {
            "text/plain": [
              "<Figure size 1000x600 with 1 Axes>"
            ],
            "image/png": "[encoded data removed]"
          },
          "metadata": {}
        }
      ]
    },
    {
      "cell_type": "code",
      "source": [
        "evaluate_model(model, test_loader, device);"
      ],
      "metadata": {
        "id": "xNd-tSqV4bSu",
        "outputId": "f47c932a-685f-4dcd-c4b5-ec5224fbad20",
        "colab": {
          "base_uri": "https://localhost:8080/"
        }
      },
      "execution_count": 9,
      "outputs": [
        {
          "output_type": "stream",
          "name": "stdout",
          "text": [
            "Test RMSE: 0.4263 with 95% CI: [0.4023, 0.4491]\n",
            "Test R²: 0.7272 with 95% CI: [0.6919, 0.7614]\n"
          ]
        }
      ]
    }
  ]
}