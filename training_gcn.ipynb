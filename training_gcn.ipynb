{
  "nbformat": 4,
  "nbformat_minor": 0,
  "metadata": {
    "colab": {
      "provenance": []
    },
    "kernelspec": {
      "name": "python3",
      "display_name": "Python 3"
    },
    "language_info": {
      "name": "python"
    }
  },
  "cells": [
    {
      "cell_type": "code",
      "execution_count": 1,
      "metadata": {
        "colab": {
          "base_uri": "https://localhost:8080/"
        },
        "id": "eAr9WDzquGF8",
        "outputId": "fbcfeebd-76af-4078-c55f-d2605022509f"
      },
      "outputs": [
        {
          "output_type": "stream",
          "name": "stdout",
          "text": [
            "Collecting torch_geometric\n",
            "  Downloading torch_geometric-2.6.1-py3-none-any.whl.metadata (63 kB)\n",
            "\u001b[?25l     \u001b[90m━━━━━━━━━━━━━━━━━━━━━━━━━━━━━━━━━━━━━━━━\u001b[0m \u001b[32m0.0/63.1 kB\u001b[0m \u001b[31m?\u001b[0m eta \u001b[36m-:--:--\u001b[0m\r\u001b[2K     \u001b[90m━━━━━━━━━━━━━━━━━━━━━━━━━━━━━━━━━━━━━━━━\u001b[0m \u001b[32m63.1/63.1 kB\u001b[0m \u001b[31m2.8 MB/s\u001b[0m eta \u001b[36m0:00:00\u001b[0m\n",
            "\u001b[?25hRequirement already satisfied: aiohttp in /usr/local/lib/python3.11/dist-packages (from torch_geometric) (3.11.14)\n",
            "Requirement already satisfied: fsspec in /usr/local/lib/python3.11/dist-packages (from torch_geometric) (2025.3.0)\n",
            "Requirement already satisfied: jinja2 in /usr/local/lib/python3.11/dist-packages (from torch_geometric) (3.1.6)\n",
            "Requirement already satisfied: numpy in /usr/local/lib/python3.11/dist-packages (from torch_geometric) (2.0.2)\n",
            "Requirement already satisfied: psutil>=5.8.0 in /usr/local/lib/python3.11/dist-packages (from torch_geometric) (5.9.5)\n",
            "Requirement already satisfied: pyparsing in /usr/local/lib/python3.11/dist-packages (from torch_geometric) (3.2.3)\n",
            "Requirement already satisfied: requests in /usr/local/lib/python3.11/dist-packages (from torch_geometric) (2.32.3)\n",
            "Requirement already satisfied: tqdm in /usr/local/lib/python3.11/dist-packages (from torch_geometric) (4.67.1)\n",
            "Requirement already satisfied: aiohappyeyeballs>=2.3.0 in /usr/local/lib/python3.11/dist-packages (from aiohttp->torch_geometric) (2.6.1)\n",
            "Requirement already satisfied: aiosignal>=1.1.2 in /usr/local/lib/python3.11/dist-packages (from aiohttp->torch_geometric) (1.3.2)\n",
            "Requirement already satisfied: attrs>=17.3.0 in /usr/local/lib/python3.11/dist-packages (from aiohttp->torch_geometric) (25.3.0)\n",
            "Requirement already satisfied: frozenlist>=1.1.1 in /usr/local/lib/python3.11/dist-packages (from aiohttp->torch_geometric) (1.5.0)\n",
            "Requirement already satisfied: multidict<7.0,>=4.5 in /usr/local/lib/python3.11/dist-packages (from aiohttp->torch_geometric) (6.2.0)\n",
            "Requirement already satisfied: propcache>=0.2.0 in /usr/local/lib/python3.11/dist-packages (from aiohttp->torch_geometric) (0.3.1)\n",
            "Requirement already satisfied: yarl<2.0,>=1.17.0 in /usr/local/lib/python3.11/dist-packages (from aiohttp->torch_geometric) (1.18.3)\n",
            "Requirement already satisfied: MarkupSafe>=2.0 in /usr/local/lib/python3.11/dist-packages (from jinja2->torch_geometric) (3.0.2)\n",
            "Requirement already satisfied: charset-normalizer<4,>=2 in /usr/local/lib/python3.11/dist-packages (from requests->torch_geometric) (3.4.1)\n",
            "Requirement already satisfied: idna<4,>=2.5 in /usr/local/lib/python3.11/dist-packages (from requests->torch_geometric) (3.10)\n",
            "Requirement already satisfied: urllib3<3,>=1.21.1 in /usr/local/lib/python3.11/dist-packages (from requests->torch_geometric) (2.3.0)\n",
            "Requirement already satisfied: certifi>=2017.4.17 in /usr/local/lib/python3.11/dist-packages (from requests->torch_geometric) (2025.1.31)\n",
            "Downloading torch_geometric-2.6.1-py3-none-any.whl (1.1 MB)\n",
            "\u001b[2K   \u001b[90m━━━━━━━━━━━━━━━━━━━━━━━━━━━━━━━━━━━━━━━━\u001b[0m \u001b[32m1.1/1.1 MB\u001b[0m \u001b[31m15.8 MB/s\u001b[0m eta \u001b[36m0:00:00\u001b[0m\n",
            "\u001b[?25hInstalling collected packages: torch_geometric\n",
            "Successfully installed torch_geometric-2.6.1\n",
            "Collecting rdkit\n",
            "  Downloading rdkit-2024.9.6-cp311-cp311-manylinux_2_28_x86_64.whl.metadata (4.0 kB)\n",
            "Requirement already satisfied: numpy in /usr/local/lib/python3.11/dist-packages (from rdkit) (2.0.2)\n",
            "Requirement already satisfied: Pillow in /usr/local/lib/python3.11/dist-packages (from rdkit) (11.1.0)\n",
            "Downloading rdkit-2024.9.6-cp311-cp311-manylinux_2_28_x86_64.whl (34.3 MB)\n",
            "\u001b[2K   \u001b[90m━━━━━━━━━━━━━━━━━━━━━━━━━━━━━━━━━━━━━━━━\u001b[0m \u001b[32m34.3/34.3 MB\u001b[0m \u001b[31m26.6 MB/s\u001b[0m eta \u001b[36m0:00:00\u001b[0m\n",
            "\u001b[?25hInstalling collected packages: rdkit\n",
            "Successfully installed rdkit-2024.9.6\n",
            "Requirement already satisfied: umap-learn in /usr/local/lib/python3.11/dist-packages (0.5.7)\n",
            "Requirement already satisfied: numpy>=1.17 in /usr/local/lib/python3.11/dist-packages (from umap-learn) (2.0.2)\n",
            "Requirement already satisfied: scipy>=1.3.1 in /usr/local/lib/python3.11/dist-packages (from umap-learn) (1.14.1)\n",
            "Requirement already satisfied: scikit-learn>=0.22 in /usr/local/lib/python3.11/dist-packages (from umap-learn) (1.6.1)\n",
            "Requirement already satisfied: numba>=0.51.2 in /usr/local/lib/python3.11/dist-packages (from umap-learn) (0.60.0)\n",
            "Requirement already satisfied: pynndescent>=0.5 in /usr/local/lib/python3.11/dist-packages (from umap-learn) (0.5.13)\n",
            "Requirement already satisfied: tqdm in /usr/local/lib/python3.11/dist-packages (from umap-learn) (4.67.1)\n",
            "Requirement already satisfied: llvmlite<0.44,>=0.43.0dev0 in /usr/local/lib/python3.11/dist-packages (from numba>=0.51.2->umap-learn) (0.43.0)\n",
            "Requirement already satisfied: joblib>=0.11 in /usr/local/lib/python3.11/dist-packages (from pynndescent>=0.5->umap-learn) (1.4.2)\n",
            "Requirement already satisfied: threadpoolctl>=3.1.0 in /usr/local/lib/python3.11/dist-packages (from scikit-learn>=0.22->umap-learn) (3.6.0)\n",
            "Requirement already satisfied: hdbscan in /usr/local/lib/python3.11/dist-packages (0.8.40)\n",
            "Requirement already satisfied: numpy<3,>=1.20 in /usr/local/lib/python3.11/dist-packages (from hdbscan) (2.0.2)\n",
            "Requirement already satisfied: scipy>=1.0 in /usr/local/lib/python3.11/dist-packages (from hdbscan) (1.14.1)\n",
            "Requirement already satisfied: scikit-learn>=0.20 in /usr/local/lib/python3.11/dist-packages (from hdbscan) (1.6.1)\n",
            "Requirement already satisfied: joblib>=1.0 in /usr/local/lib/python3.11/dist-packages (from hdbscan) (1.4.2)\n",
            "Requirement already satisfied: threadpoolctl>=3.1.0 in /usr/local/lib/python3.11/dist-packages (from scikit-learn>=0.20->hdbscan) (3.6.0)\n",
            "Requirement already satisfied: pandas in /usr/local/lib/python3.11/dist-packages (2.2.2)\n",
            "Requirement already satisfied: numpy>=1.23.2 in /usr/local/lib/python3.11/dist-packages (from pandas) (2.0.2)\n",
            "Requirement already satisfied: python-dateutil>=2.8.2 in /usr/local/lib/python3.11/dist-packages (from pandas) (2.8.2)\n",
            "Requirement already satisfied: pytz>=2020.1 in /usr/local/lib/python3.11/dist-packages (from pandas) (2025.2)\n",
            "Requirement already satisfied: tzdata>=2022.7 in /usr/local/lib/python3.11/dist-packages (from pandas) (2025.2)\n",
            "Requirement already satisfied: six>=1.5 in /usr/local/lib/python3.11/dist-packages (from python-dateutil>=2.8.2->pandas) (1.17.0)\n",
            "Requirement already satisfied: matplotlib in /usr/local/lib/python3.11/dist-packages (3.10.0)\n",
            "Requirement already satisfied: contourpy>=1.0.1 in /usr/local/lib/python3.11/dist-packages (from matplotlib) (1.3.1)\n",
            "Requirement already satisfied: cycler>=0.10 in /usr/local/lib/python3.11/dist-packages (from matplotlib) (0.12.1)\n",
            "Requirement already satisfied: fonttools>=4.22.0 in /usr/local/lib/python3.11/dist-packages (from matplotlib) (4.56.0)\n",
            "Requirement already satisfied: kiwisolver>=1.3.1 in /usr/local/lib/python3.11/dist-packages (from matplotlib) (1.4.8)\n",
            "Requirement already satisfied: numpy>=1.23 in /usr/local/lib/python3.11/dist-packages (from matplotlib) (2.0.2)\n",
            "Requirement already satisfied: packaging>=20.0 in /usr/local/lib/python3.11/dist-packages (from matplotlib) (24.2)\n",
            "Requirement already satisfied: pillow>=8 in /usr/local/lib/python3.11/dist-packages (from matplotlib) (11.1.0)\n",
            "Requirement already satisfied: pyparsing>=2.3.1 in /usr/local/lib/python3.11/dist-packages (from matplotlib) (3.2.3)\n",
            "Requirement already satisfied: python-dateutil>=2.7 in /usr/local/lib/python3.11/dist-packages (from matplotlib) (2.8.2)\n",
            "Requirement already satisfied: six>=1.5 in /usr/local/lib/python3.11/dist-packages (from python-dateutil>=2.7->matplotlib) (1.17.0)\n",
            "Requirement already satisfied: seaborn in /usr/local/lib/python3.11/dist-packages (0.13.2)\n",
            "Requirement already satisfied: numpy!=1.24.0,>=1.20 in /usr/local/lib/python3.11/dist-packages (from seaborn) (2.0.2)\n",
            "Requirement already satisfied: pandas>=1.2 in /usr/local/lib/python3.11/dist-packages (from seaborn) (2.2.2)\n",
            "Requirement already satisfied: matplotlib!=3.6.1,>=3.4 in /usr/local/lib/python3.11/dist-packages (from seaborn) (3.10.0)\n",
            "Requirement already satisfied: contourpy>=1.0.1 in /usr/local/lib/python3.11/dist-packages (from matplotlib!=3.6.1,>=3.4->seaborn) (1.3.1)\n",
            "Requirement already satisfied: cycler>=0.10 in /usr/local/lib/python3.11/dist-packages (from matplotlib!=3.6.1,>=3.4->seaborn) (0.12.1)\n",
            "Requirement already satisfied: fonttools>=4.22.0 in /usr/local/lib/python3.11/dist-packages (from matplotlib!=3.6.1,>=3.4->seaborn) (4.56.0)\n",
            "Requirement already satisfied: kiwisolver>=1.3.1 in /usr/local/lib/python3.11/dist-packages (from matplotlib!=3.6.1,>=3.4->seaborn) (1.4.8)\n",
            "Requirement already satisfied: packaging>=20.0 in /usr/local/lib/python3.11/dist-packages (from matplotlib!=3.6.1,>=3.4->seaborn) (24.2)\n",
            "Requirement already satisfied: pillow>=8 in /usr/local/lib/python3.11/dist-packages (from matplotlib!=3.6.1,>=3.4->seaborn) (11.1.0)\n",
            "Requirement already satisfied: pyparsing>=2.3.1 in /usr/local/lib/python3.11/dist-packages (from matplotlib!=3.6.1,>=3.4->seaborn) (3.2.3)\n",
            "Requirement already satisfied: python-dateutil>=2.7 in /usr/local/lib/python3.11/dist-packages (from matplotlib!=3.6.1,>=3.4->seaborn) (2.8.2)\n",
            "Requirement already satisfied: pytz>=2020.1 in /usr/local/lib/python3.11/dist-packages (from pandas>=1.2->seaborn) (2025.2)\n",
            "Requirement already satisfied: tzdata>=2022.7 in /usr/local/lib/python3.11/dist-packages (from pandas>=1.2->seaborn) (2025.2)\n",
            "Requirement already satisfied: six>=1.5 in /usr/local/lib/python3.11/dist-packages (from python-dateutil>=2.7->matplotlib!=3.6.1,>=3.4->seaborn) (1.17.0)\n",
            "Requirement already satisfied: scikit-learn in /usr/local/lib/python3.11/dist-packages (1.6.1)\n",
            "Requirement already satisfied: numpy>=1.19.5 in /usr/local/lib/python3.11/dist-packages (from scikit-learn) (2.0.2)\n",
            "Requirement already satisfied: scipy>=1.6.0 in /usr/local/lib/python3.11/dist-packages (from scikit-learn) (1.14.1)\n",
            "Requirement already satisfied: joblib>=1.2.0 in /usr/local/lib/python3.11/dist-packages (from scikit-learn) (1.4.2)\n",
            "Requirement already satisfied: threadpoolctl>=3.1.0 in /usr/local/lib/python3.11/dist-packages (from scikit-learn) (3.6.0)\n",
            "Requirement already satisfied: numpy in /usr/local/lib/python3.11/dist-packages (2.0.2)\n"
          ]
        }
      ],
      "source": [
        "!pip install torch_geometric\n",
        "!pip install rdkit\n",
        "!pip install umap-learn\n",
        "!pip install hdbscan\n",
        "!pip install pandas\n",
        "!pip install matplotlib\n",
        "!pip install seaborn\n",
        "!pip install scikit-learn\n",
        "!pip install numpy"
      ]
    },
    {
      "cell_type": "code",
      "source": [
        "import torch\n",
        "import torch.nn as nn\n",
        "import torch.optim as optim\n",
        "from torch_geometric.loader import DataLoader\n",
        "\n",
        "from data_loaders import preproccess_data, generate_scaffold_split, df_to_graph_list, get_scaffolds\n",
        "from gcn import GCN\n",
        "\n",
        "from sklearn.metrics import r2_score\n",
        "import numpy as np\n",
        "import scipy.stats as stats\n",
        "\n",
        "from torch.optim.lr_scheduler import CosineAnnealingLR\n",
        "\n",
        "from rdkit import RDLogger\n",
        "RDLogger.DisableLog('rdApp.*')\n",
        "\n",
        "import toml\n",
        "\n",
        "device = torch.device(\"cuda\" if torch.cuda.is_available() else \"cpu\")\n",
        "print(device)"
      ],
      "metadata": {
        "colab": {
          "base_uri": "https://localhost:8080/"
        },
        "id": "Vk9UtGKyurQe",
        "outputId": "a18d42a2-c768-4513-c702-b64918b88cc0"
      },
      "execution_count": 5,
      "outputs": [
        {
          "output_type": "stream",
          "name": "stdout",
          "text": [
            "cpu\n"
          ]
        }
      ]
    },
    {
      "cell_type": "code",
      "source": [
        "file_path = '/content/drive/MyDrive/BioSolveAI/data/curated-solubility-dataset.csv'\n",
        "df = preproccess_data(file_path)\n",
        "\n",
        "\n",
        "df['scaffold'] = df['mol'].apply(get_scaffolds)\n",
        "\n",
        "# scaffolds to get train, val, text\n",
        "train_idx, val_idx, test_idx = generate_scaffold_split(df)\n",
        "\n",
        "# Split the dataframe into train, val, and test\n",
        "train_df = df.iloc[train_idx]\n",
        "val_df = df.iloc[val_idx]\n",
        "test_df = df.iloc[test_idx]\n",
        "\n",
        "# df to graph list\n",
        "train_graph_list = df_to_graph_list(train_df)\n",
        "val_graph_list = df_to_graph_list(val_df)\n",
        "test_graph_list = df_to_graph_list(test_df)"
      ],
      "metadata": {
        "id": "TWWcWy5ov2JN"
      },
      "execution_count": 4,
      "outputs": []
    },
    {
      "cell_type": "code",
      "source": [
        "config = toml.load(\"config.toml\")\n",
        "\n",
        "# access the parameters\n",
        "batch_size = config[\"BATCH_SIZE\"]\n",
        "epochs = config[\"EPOCHS\"]\n",
        "learning_rate = config[\"LEARNING_RATE\"]\n",
        "weight_decay = config[\"WEIGHT_DECAY\"]\n",
        "\n",
        "print(\"Batch size:\", batch_size)\n",
        "print(\"Epochs:\", epochs)\n",
        "print(\"Learning rate:\", learning_rate)\n",
        "print(\"Weight decay:\", weight_decay)"
      ],
      "metadata": {
        "colab": {
          "base_uri": "https://localhost:8080/"
        },
        "id": "AfpKV_-qwvrn",
        "outputId": "996afcc2-d549-42c6-99c1-feaa799388d0"
      },
      "execution_count": 8,
      "outputs": [
        {
          "output_type": "stream",
          "name": "stdout",
          "text": [
            "Batch size: 32\n",
            "Epochs: 60\n",
            "Learning rate: 0.0008935532131641973\n",
            "Weight decay: 0.006955968863499973\n"
          ]
        }
      ]
    },
    {
      "cell_type": "code",
      "source": [
        "train_loader = DataLoader(train_graph_list, batch_size=batch_size, shuffle=True)\n",
        "val_loader = DataLoader(val_graph_list, batch_size=batch_size, shuffle=False)\n",
        "test_loader = DataLoader(test_graph_list, batch_size=batch_size, shuffle=False)"
      ],
      "metadata": {
        "id": "WN_aYXK8wcdc"
      },
      "execution_count": 9,
      "outputs": []
    },
    {
      "cell_type": "code",
      "source": [
        "from train_utils import plot_losses, train, evaluate_model\n",
        "\n",
        "num_node_dim = train_graph_list[0].x.shape[1]\n",
        "edge_attr_dim = train_graph_list[0].edge_attr.shape[1]\n",
        "u_dim = train_graph_list[0].u.shape[1]\n",
        "\n",
        "# init model\n",
        "model = GCN(num_node_features=num_node_dim,\n",
        "            edge_attr_dim=edge_attr_dim,\n",
        "            u_dim=u_dim,\n",
        "            hidden_dim=64,\n",
        "            output_dim=1).to(device)\n",
        "\n",
        "train(model, train_loader, val_loader, epochs, learning_rate, weight_decay, device)\n"
      ],
      "metadata": {
        "colab": {
          "base_uri": "https://localhost:8080/",
          "height": 1000
        },
        "id": "QSKOBnIbxL4U",
        "outputId": "edd85239-426b-4711-ddac-347302e01739"
      },
      "execution_count": 10,
      "outputs": [
        {
          "output_type": "stream",
          "name": "stdout",
          "text": [
            "Epoch: 1, Train Loss: 1.7553, Val Loss: 0.5215\n",
            "Epoch: 2, Train Loss: 0.8011, Val Loss: 0.4347\n",
            "Epoch: 3, Train Loss: 0.6677, Val Loss: 0.4223\n",
            "Epoch: 4, Train Loss: 0.5834, Val Loss: 0.3857\n",
            "Epoch: 5, Train Loss: 0.5495, Val Loss: 0.3773\n",
            "Epoch: 6, Train Loss: 0.5395, Val Loss: 0.3553\n",
            "Epoch: 7, Train Loss: 0.5110, Val Loss: 0.3276\n",
            "Epoch: 8, Train Loss: 0.5009, Val Loss: 0.3539\n",
            "Epoch: 9, Train Loss: 0.4768, Val Loss: 0.3168\n",
            "Epoch: 10, Train Loss: 0.4722, Val Loss: 0.2982\n",
            "Epoch: 11, Train Loss: 0.4522, Val Loss: 0.2794\n",
            "Epoch: 12, Train Loss: 0.4416, Val Loss: 0.2692\n",
            "Epoch: 13, Train Loss: 0.4361, Val Loss: 0.2785\n",
            "Epoch: 14, Train Loss: 0.4213, Val Loss: 0.2632\n",
            "Epoch: 15, Train Loss: 0.4216, Val Loss: 0.2925\n",
            "Epoch: 16, Train Loss: 0.4085, Val Loss: 0.2646\n",
            "Epoch: 17, Train Loss: 0.4038, Val Loss: 0.2767\n",
            "Epoch: 18, Train Loss: 0.3987, Val Loss: 0.2879\n",
            "Epoch: 19, Train Loss: 0.3898, Val Loss: 0.2448\n",
            "Epoch: 20, Train Loss: 0.3826, Val Loss: 0.2525\n",
            "Epoch: 21, Train Loss: 0.3790, Val Loss: 0.2525\n",
            "Epoch: 22, Train Loss: 0.3703, Val Loss: 0.2421\n",
            "Epoch: 23, Train Loss: 0.3707, Val Loss: 0.2535\n",
            "Epoch: 24, Train Loss: 0.3557, Val Loss: 0.2327\n",
            "Epoch: 25, Train Loss: 0.3518, Val Loss: 0.2381\n",
            "Epoch: 26, Train Loss: 0.3482, Val Loss: 0.2391\n",
            "Epoch: 27, Train Loss: 0.3414, Val Loss: 0.2515\n",
            "Epoch: 28, Train Loss: 0.3392, Val Loss: 0.2339\n",
            "Epoch: 29, Train Loss: 0.3408, Val Loss: 0.2605\n",
            "Epoch: 30, Train Loss: 0.3331, Val Loss: 0.2657\n",
            "Epoch: 31, Train Loss: 0.3307, Val Loss: 0.2437\n",
            "Epoch: 32, Train Loss: 0.3295, Val Loss: 0.2391\n",
            "Epoch: 33, Train Loss: 0.3243, Val Loss: 0.2412\n",
            "Epoch: 34, Train Loss: 0.3231, Val Loss: 0.2244\n",
            "Epoch: 35, Train Loss: 0.3206, Val Loss: 0.2436\n",
            "Epoch: 36, Train Loss: 0.3199, Val Loss: 0.2421\n",
            "Epoch: 37, Train Loss: 0.3205, Val Loss: 0.2304\n",
            "Epoch: 38, Train Loss: 0.3123, Val Loss: 0.2341\n",
            "Epoch: 39, Train Loss: 0.3116, Val Loss: 0.2391\n",
            "Epoch: 40, Train Loss: 0.3089, Val Loss: 0.2310\n",
            "Epoch: 41, Train Loss: 0.3077, Val Loss: 0.2375\n",
            "Epoch: 42, Train Loss: 0.3039, Val Loss: 0.2361\n",
            "Epoch: 43, Train Loss: 0.3114, Val Loss: 0.2378\n",
            "Epoch: 44, Train Loss: 0.3074, Val Loss: 0.2348\n",
            "Epoch: 45, Train Loss: 0.3021, Val Loss: 0.2353\n",
            "Epoch: 46, Train Loss: 0.3051, Val Loss: 0.2379\n",
            "Epoch: 47, Train Loss: 0.3075, Val Loss: 0.2372\n",
            "Epoch: 48, Train Loss: 0.3056, Val Loss: 0.2352\n",
            "Epoch: 49, Train Loss: 0.3044, Val Loss: 0.2357\n",
            "Epoch: 50, Train Loss: 0.3042, Val Loss: 0.2355\n",
            "Epoch: 51, Train Loss: 0.3037, Val Loss: 0.2354\n",
            "Epoch: 52, Train Loss: 0.3102, Val Loss: 0.2357\n",
            "Epoch: 53, Train Loss: 0.3089, Val Loss: 0.2358\n",
            "Epoch: 54, Train Loss: 0.3039, Val Loss: 0.2379\n",
            "Epoch: 55, Train Loss: 0.3030, Val Loss: 0.2377\n",
            "Epoch: 56, Train Loss: 0.3031, Val Loss: 0.2351\n",
            "Epoch: 57, Train Loss: 0.3056, Val Loss: 0.2339\n",
            "Epoch: 58, Train Loss: 0.3003, Val Loss: 0.2346\n",
            "Epoch: 59, Train Loss: 0.3074, Val Loss: 0.2336\n",
            "Epoch: 60, Train Loss: 0.3083, Val Loss: 0.2387\n"
          ]
        },
        {
          "output_type": "display_data",
          "data": {
            "text/plain": [
              "<Figure size 1000x600 with 1 Axes>"
            ],
            "image/png": "[encoded data removed]"
          },
          "metadata": {}
        },
        {
          "output_type": "execute_result",
          "data": {
            "text/plain": [
              "GCN(\n",
              "  (edge_mlp1): Sequential(\n",
              "    (0): Linear(in_features=4, out_features=64, bias=True)\n",
              "    (1): ReLU()\n",
              "    (2): Linear(in_features=64, out_features=64, bias=True)\n",
              "  )\n",
              "  (edge_mlp2): Sequential(\n",
              "    (0): Linear(in_features=4, out_features=64, bias=True)\n",
              "    (1): ReLU()\n",
              "    (2): Linear(in_features=64, out_features=64, bias=True)\n",
              "  )\n",
              "  (conv1a): GINEConv(nn=Sequential(\n",
              "    (0): Linear(in_features=6, out_features=64, bias=True)\n",
              "    (1): ReLU()\n",
              "    (2): Linear(in_features=64, out_features=64, bias=True)\n",
              "  ))\n",
              "  (conv1b): GINEConv(nn=Sequential(\n",
              "    (0): Linear(in_features=6, out_features=64, bias=True)\n",
              "    (1): ReLU()\n",
              "    (2): Linear(in_features=64, out_features=64, bias=True)\n",
              "  ))\n",
              "  (conv1c): GINEConv(nn=Sequential(\n",
              "    (0): Linear(in_features=6, out_features=64, bias=True)\n",
              "    (1): ReLU()\n",
              "    (2): Linear(in_features=64, out_features=64, bias=True)\n",
              "  ))\n",
              "  (lin1): Linear(in_features=192, out_features=64, bias=True)\n",
              "  (conv2a): GINEConv(nn=Sequential(\n",
              "    (0): Linear(in_features=64, out_features=64, bias=True)\n",
              "    (1): ReLU()\n",
              "    (2): Linear(in_features=64, out_features=64, bias=True)\n",
              "  ))\n",
              "  (conv2b): GINEConv(nn=Sequential(\n",
              "    (0): Linear(in_features=64, out_features=64, bias=True)\n",
              "    (1): ReLU()\n",
              "    (2): Linear(in_features=64, out_features=64, bias=True)\n",
              "  ))\n",
              "  (conv2c): GINEConv(nn=Sequential(\n",
              "    (0): Linear(in_features=64, out_features=64, bias=True)\n",
              "    (1): ReLU()\n",
              "    (2): Linear(in_features=64, out_features=64, bias=True)\n",
              "  ))\n",
              "  (lin2): Linear(in_features=192, out_features=64, bias=True)\n",
              "  (fc1): Linear(in_features=70, out_features=32, bias=True)\n",
              "  (fc2): Linear(in_features=32, out_features=1, bias=True)\n",
              "  (ln1): LayerNorm((64,), eps=1e-05, elementwise_affine=True)\n",
              "  (ln2): LayerNorm((64,), eps=1e-05, elementwise_affine=True)\n",
              "  (ln3): LayerNorm((32,), eps=1e-05, elementwise_affine=True)\n",
              "  (dropout1): Dropout(p=0.35, inplace=False)\n",
              "  (dropout2): Dropout(p=0.35, inplace=False)\n",
              "  (dropout3): Dropout(p=0.35, inplace=False)\n",
              ")"
            ]
          },
          "metadata": {},
          "execution_count": 10
        }
      ]
    },
    {
      "cell_type": "code",
      "source": [
        "evaluate_model(model, test_loader, device)"
      ],
      "metadata": {
        "colab": {
          "base_uri": "https://localhost:8080/"
        },
        "id": "xNd-tSqV4bSu",
        "outputId": "652d2d16-ea11-444d-c4af-80e8d78089fe"
      },
      "execution_count": 11,
      "outputs": [
        {
          "output_type": "stream",
          "name": "stdout",
          "text": [
            "Test RMSE: 0.4326 with 95% CI: [0.4083, 0.4556]\n",
            "Test R²: 0.7191 with 95% CI: [0.6811, 0.7542]\n"
          ]
        },
        {
          "output_type": "execute_result",
          "data": {
            "text/plain": [
              "(np.float32(0.43259344),\n",
              " (np.float64(0.4082913643714717), np.float64(0.4556010276718079)),\n",
              " 0.7191209197044373,\n",
              " array([0.68106807, 0.754247  ]))"
            ]
          },
          "metadata": {},
          "execution_count": 11
        }
      ]
    }
  ]
}