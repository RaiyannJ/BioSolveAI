{
 "cells": [
  {
   "cell_type": "code",
   "execution_count": null,
   "metadata": {},
   "outputs": [],
   "source": [
    "import torch\n",
    "import torch.nn as nn\n",
    "import torch.optim as optim\n",
    "from torch_geometric.loader import DataLoader\n",
    "\n",
    "\n",
    "from data_loaders import preproccess_data, generate_scaffold_split, df_to_graph_list, get_scaffolds\n",
    "\n",
    "from gcn import GCN  \n",
    "\n",
    "\n",
    "device = torch.device(\"cuda\" if torch.cuda.is_available() else \"cpu\")"
   ]
  },
  {
   "cell_type": "code",
   "execution_count": null,
   "metadata": {},
   "outputs": [],
   "source": [
    "file_path = 'data/curated-solubility-dataset.csv'\n",
    "df = preproccess_data(file_path)\n",
    "\n",
    "\n",
    "df['scaffold'] = df['mol'].apply(get_scaffolds)\n",
    "\n",
    "# scaffolds to get train, val, text\n",
    "train_idx, val_idx, test_idx = generate_scaffold_split(df)\n",
    "\n",
    "# Split the dataframe into train, val, and test\n",
    "train_df = df.iloc[train_idx]\n",
    "val_df = df.iloc[val_idx]\n",
    "test_df = df.iloc[test_idx]\n",
    "\n",
    "# df to graph list\n",
    "train_graph_list = df_to_graph_list(train_df)\n",
    "val_graph_list = df_to_graph_list(val_df)\n",
    "test_graph_list = df_to_graph_list(test_df)"
   ]
  },
  {
   "cell_type": "code",
   "execution_count": null,
   "metadata": {},
   "outputs": [],
   "source": []
  }
 ],
 "metadata": {
  "kernelspec": {
   "display_name": "Python 3",
   "language": "python",
   "name": "python3"
  },
  "language_info": {
   "name": "python",
   "version": "3.9.6"
  }
 },
 "nbformat": 4,
 "nbformat_minor": 2
}
