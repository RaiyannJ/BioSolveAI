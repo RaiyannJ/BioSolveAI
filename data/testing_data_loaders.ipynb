{
  "nbformat": 4,
  "nbformat_minor": 0,
  "metadata": {
    "colab": {
      "provenance": []
    },
    "kernelspec": {
      "name": "python3",
      "display_name": "Python 3"
    },
    "language_info": {
      "name": "python"
    }
  },
  "cells": [
    {
      "cell_type": "code",
      "source": [
        "!pip install rdkit\n",
        "!pip install umap-learn\n",
        "!pip install hdbscan\n",
        "!pip install pandas\n",
        "!pip install matplotlib\n",
        "!pip install seaborn\n",
        "!pip install scikit-learn\n",
        "!pip install numpy"
      ],
      "metadata": {
        "id": "8EmQo95Ta1TS",
        "colab": {
          "base_uri": "https://localhost:8080/"
        },
        "outputId": "a37d4b8e-4a42-4f5b-b83b-c5279b365c78"
      },
      "execution_count": null,
      "outputs": [
        {
          "output_type": "stream",
          "name": "stdout",
          "text": [
            "Requirement already satisfied: rdkit in /usr/local/lib/python3.11/dist-packages (2024.9.6)\n",
            "Requirement already satisfied: numpy in /usr/local/lib/python3.11/dist-packages (from rdkit) (2.0.2)\n",
            "Requirement already satisfied: Pillow in /usr/local/lib/python3.11/dist-packages (from rdkit) (11.1.0)\n",
            "Requirement already satisfied: umap-learn in /usr/local/lib/python3.11/dist-packages (0.5.7)\n",
            "Requirement already satisfied: numpy>=1.17 in /usr/local/lib/python3.11/dist-packages (from umap-learn) (2.0.2)\n",
            "Requirement already satisfied: scipy>=1.3.1 in /usr/local/lib/python3.11/dist-packages (from umap-learn) (1.14.1)\n",
            "Requirement already satisfied: scikit-learn>=0.22 in /usr/local/lib/python3.11/dist-packages (from umap-learn) (1.6.1)\n",
            "Requirement already satisfied: numba>=0.51.2 in /usr/local/lib/python3.11/dist-packages (from umap-learn) (0.60.0)\n",
            "Requirement already satisfied: pynndescent>=0.5 in /usr/local/lib/python3.11/dist-packages (from umap-learn) (0.5.13)\n",
            "Requirement already satisfied: tqdm in /usr/local/lib/python3.11/dist-packages (from umap-learn) (4.67.1)\n",
            "Requirement already satisfied: llvmlite<0.44,>=0.43.0dev0 in /usr/local/lib/python3.11/dist-packages (from numba>=0.51.2->umap-learn) (0.43.0)\n",
            "Requirement already satisfied: joblib>=0.11 in /usr/local/lib/python3.11/dist-packages (from pynndescent>=0.5->umap-learn) (1.4.2)\n",
            "Requirement already satisfied: threadpoolctl>=3.1.0 in /usr/local/lib/python3.11/dist-packages (from scikit-learn>=0.22->umap-learn) (3.6.0)\n",
            "Requirement already satisfied: hdbscan in /usr/local/lib/python3.11/dist-packages (0.8.40)\n",
            "Requirement already satisfied: numpy<3,>=1.20 in /usr/local/lib/python3.11/dist-packages (from hdbscan) (2.0.2)\n",
            "Requirement already satisfied: scipy>=1.0 in /usr/local/lib/python3.11/dist-packages (from hdbscan) (1.14.1)\n",
            "Requirement already satisfied: scikit-learn>=0.20 in /usr/local/lib/python3.11/dist-packages (from hdbscan) (1.6.1)\n",
            "Requirement already satisfied: joblib>=1.0 in /usr/local/lib/python3.11/dist-packages (from hdbscan) (1.4.2)\n",
            "Requirement already satisfied: threadpoolctl>=3.1.0 in /usr/local/lib/python3.11/dist-packages (from scikit-learn>=0.20->hdbscan) (3.6.0)\n",
            "Requirement already satisfied: pandas in /usr/local/lib/python3.11/dist-packages (2.2.2)\n",
            "Requirement already satisfied: numpy>=1.23.2 in /usr/local/lib/python3.11/dist-packages (from pandas) (2.0.2)\n",
            "Requirement already satisfied: python-dateutil>=2.8.2 in /usr/local/lib/python3.11/dist-packages (from pandas) (2.8.2)\n",
            "Requirement already satisfied: pytz>=2020.1 in /usr/local/lib/python3.11/dist-packages (from pandas) (2025.1)\n",
            "Requirement already satisfied: tzdata>=2022.7 in /usr/local/lib/python3.11/dist-packages (from pandas) (2025.1)\n",
            "Requirement already satisfied: six>=1.5 in /usr/local/lib/python3.11/dist-packages (from python-dateutil>=2.8.2->pandas) (1.17.0)\n",
            "Requirement already satisfied: matplotlib in /usr/local/lib/python3.11/dist-packages (3.10.0)\n",
            "Requirement already satisfied: contourpy>=1.0.1 in /usr/local/lib/python3.11/dist-packages (from matplotlib) (1.3.1)\n",
            "Requirement already satisfied: cycler>=0.10 in /usr/local/lib/python3.11/dist-packages (from matplotlib) (0.12.1)\n",
            "Requirement already satisfied: fonttools>=4.22.0 in /usr/local/lib/python3.11/dist-packages (from matplotlib) (4.56.0)\n",
            "Requirement already satisfied: kiwisolver>=1.3.1 in /usr/local/lib/python3.11/dist-packages (from matplotlib) (1.4.8)\n",
            "Requirement already satisfied: numpy>=1.23 in /usr/local/lib/python3.11/dist-packages (from matplotlib) (2.0.2)\n",
            "Requirement already satisfied: packaging>=20.0 in /usr/local/lib/python3.11/dist-packages (from matplotlib) (24.2)\n",
            "Requirement already satisfied: pillow>=8 in /usr/local/lib/python3.11/dist-packages (from matplotlib) (11.1.0)\n",
            "Requirement already satisfied: pyparsing>=2.3.1 in /usr/local/lib/python3.11/dist-packages (from matplotlib) (3.2.1)\n",
            "Requirement already satisfied: python-dateutil>=2.7 in /usr/local/lib/python3.11/dist-packages (from matplotlib) (2.8.2)\n",
            "Requirement already satisfied: six>=1.5 in /usr/local/lib/python3.11/dist-packages (from python-dateutil>=2.7->matplotlib) (1.17.0)\n",
            "Requirement already satisfied: seaborn in /usr/local/lib/python3.11/dist-packages (0.13.2)\n",
            "Requirement already satisfied: numpy!=1.24.0,>=1.20 in /usr/local/lib/python3.11/dist-packages (from seaborn) (2.0.2)\n",
            "Requirement already satisfied: pandas>=1.2 in /usr/local/lib/python3.11/dist-packages (from seaborn) (2.2.2)\n",
            "Requirement already satisfied: matplotlib!=3.6.1,>=3.4 in /usr/local/lib/python3.11/dist-packages (from seaborn) (3.10.0)\n",
            "Requirement already satisfied: contourpy>=1.0.1 in /usr/local/lib/python3.11/dist-packages (from matplotlib!=3.6.1,>=3.4->seaborn) (1.3.1)\n",
            "Requirement already satisfied: cycler>=0.10 in /usr/local/lib/python3.11/dist-packages (from matplotlib!=3.6.1,>=3.4->seaborn) (0.12.1)\n",
            "Requirement already satisfied: fonttools>=4.22.0 in /usr/local/lib/python3.11/dist-packages (from matplotlib!=3.6.1,>=3.4->seaborn) (4.56.0)\n",
            "Requirement already satisfied: kiwisolver>=1.3.1 in /usr/local/lib/python3.11/dist-packages (from matplotlib!=3.6.1,>=3.4->seaborn) (1.4.8)\n",
            "Requirement already satisfied: packaging>=20.0 in /usr/local/lib/python3.11/dist-packages (from matplotlib!=3.6.1,>=3.4->seaborn) (24.2)\n",
            "Requirement already satisfied: pillow>=8 in /usr/local/lib/python3.11/dist-packages (from matplotlib!=3.6.1,>=3.4->seaborn) (11.1.0)\n",
            "Requirement already satisfied: pyparsing>=2.3.1 in /usr/local/lib/python3.11/dist-packages (from matplotlib!=3.6.1,>=3.4->seaborn) (3.2.1)\n",
            "Requirement already satisfied: python-dateutil>=2.7 in /usr/local/lib/python3.11/dist-packages (from matplotlib!=3.6.1,>=3.4->seaborn) (2.8.2)\n",
            "Requirement already satisfied: pytz>=2020.1 in /usr/local/lib/python3.11/dist-packages (from pandas>=1.2->seaborn) (2025.1)\n",
            "Requirement already satisfied: tzdata>=2022.7 in /usr/local/lib/python3.11/dist-packages (from pandas>=1.2->seaborn) (2025.1)\n",
            "Requirement already satisfied: six>=1.5 in /usr/local/lib/python3.11/dist-packages (from python-dateutil>=2.7->matplotlib!=3.6.1,>=3.4->seaborn) (1.17.0)\n",
            "Requirement already satisfied: scikit-learn in /usr/local/lib/python3.11/dist-packages (1.6.1)\n",
            "Requirement already satisfied: numpy>=1.19.5 in /usr/local/lib/python3.11/dist-packages (from scikit-learn) (2.0.2)\n",
            "Requirement already satisfied: scipy>=1.6.0 in /usr/local/lib/python3.11/dist-packages (from scikit-learn) (1.14.1)\n",
            "Requirement already satisfied: joblib>=1.2.0 in /usr/local/lib/python3.11/dist-packages (from scikit-learn) (1.4.2)\n",
            "Requirement already satisfied: threadpoolctl>=3.1.0 in /usr/local/lib/python3.11/dist-packages (from scikit-learn) (3.6.0)\n",
            "Requirement already satisfied: numpy in /usr/local/lib/python3.11/dist-packages (2.0.2)\n"
          ]
        }
      ]
    },
    {
      "cell_type": "code",
      "source": [
        "import pandas as pd\n",
        "import numpy as np"
      ],
      "metadata": {
        "id": "AonRyzTmayoJ"
      },
      "execution_count": null,
      "outputs": []
    },
    {
      "cell_type": "code",
      "source": [
        "from google.colab import files\n",
        "uploaded = files.upload()"
      ],
      "metadata": {
        "colab": {
          "base_uri": "https://localhost:8080/",
          "height": 69
        },
        "id": "9g45KFJygJsz",
        "outputId": "0bfe2e65-a37a-4b28-dc6a-e8a5c0fb7fa8"
      },
      "execution_count": null,
      "outputs": [
        {
          "output_type": "display_data",
          "data": {
            "text/plain": [
              "<IPython.core.display.HTML object>"
            ],
            "text/html": [
              "\n",
              "     <input type=\"file\" id=\"files-be9f488b-7f1a-42a5-a220-e55f02363410\" name=\"files[]\" multiple disabled\n",
              "        style=\"border:none\" />\n",
              "     <output id=\"result-be9f488b-7f1a-42a5-a220-e55f02363410\">\n",
              "      Upload widget is only available when the cell has been executed in the\n",
              "      current browser session. Please rerun this cell to enable.\n",
              "      </output>\n",
              "      <script>// Copyright 2017 Google LLC\n",
              "//\n",
              "// Licensed under the Apache License, Version 2.0 (the \"License\");\n",
              "// you may not use this file except in compliance with the License.\n",
              "// You may obtain a copy of the License at\n",
              "//\n",
              "//      http://www.apache.org/licenses/LICENSE-2.0\n",
              "//\n",
              "// Unless required by applicable law or agreed to in writing, software\n",
              "// distributed under the License is distributed on an \"AS IS\" BASIS,\n",
              "// WITHOUT WARRANTIES OR CONDITIONS OF ANY KIND, either express or implied.\n",
              "// See the License for the specific language governing permissions and\n",
              "// limitations under the License.\n",
              "\n",
              "/**\n",
              " * @fileoverview Helpers for google.colab Python module.\n",
              " */\n",
              "(function(scope) {\n",
              "function span(text, styleAttributes = {}) {\n",
              "  const element = document.createElement('span');\n",
              "  element.textContent = text;\n",
              "  for (const key of Object.keys(styleAttributes)) {\n",
              "    element.style[key] = styleAttributes[key];\n",
              "  }\n",
              "  return element;\n",
              "}\n",
              "\n",
              "// Max number of bytes which will be uploaded at a time.\n",
              "const MAX_PAYLOAD_SIZE = 100 * 1024;\n",
              "\n",
              "function _uploadFiles(inputId, outputId) {\n",
              "  const steps = uploadFilesStep(inputId, outputId);\n",
              "  const outputElement = document.getElementById(outputId);\n",
              "  // Cache steps on the outputElement to make it available for the next call\n",
              "  // to uploadFilesContinue from Python.\n",
              "  outputElement.steps = steps;\n",
              "\n",
              "  return _uploadFilesContinue(outputId);\n",
              "}\n",
              "\n",
              "// This is roughly an async generator (not supported in the browser yet),\n",
              "// where there are multiple asynchronous steps and the Python side is going\n",
              "// to poll for completion of each step.\n",
              "// This uses a Promise to block the python side on completion of each step,\n",
              "// then passes the result of the previous step as the input to the next step.\n",
              "function _uploadFilesContinue(outputId) {\n",
              "  const outputElement = document.getElementById(outputId);\n",
              "  const steps = outputElement.steps;\n",
              "\n",
              "  const next = steps.next(outputElement.lastPromiseValue);\n",
              "  return Promise.resolve(next.value.promise).then((value) => {\n",
              "    // Cache the last promise value to make it available to the next\n",
              "    // step of the generator.\n",
              "    outputElement.lastPromiseValue = value;\n",
              "    return next.value.response;\n",
              "  });\n",
              "}\n",
              "\n",
              "/**\n",
              " * Generator function which is called between each async step of the upload\n",
              " * process.\n",
              " * @param {string} inputId Element ID of the input file picker element.\n",
              " * @param {string} outputId Element ID of the output display.\n",
              " * @return {!Iterable<!Object>} Iterable of next steps.\n",
              " */\n",
              "function* uploadFilesStep(inputId, outputId) {\n",
              "  const inputElement = document.getElementById(inputId);\n",
              "  inputElement.disabled = false;\n",
              "\n",
              "  const outputElement = document.getElementById(outputId);\n",
              "  outputElement.innerHTML = '';\n",
              "\n",
              "  const pickedPromise = new Promise((resolve) => {\n",
              "    inputElement.addEventListener('change', (e) => {\n",
              "      resolve(e.target.files);\n",
              "    });\n",
              "  });\n",
              "\n",
              "  const cancel = document.createElement('button');\n",
              "  inputElement.parentElement.appendChild(cancel);\n",
              "  cancel.textContent = 'Cancel upload';\n",
              "  const cancelPromise = new Promise((resolve) => {\n",
              "    cancel.onclick = () => {\n",
              "      resolve(null);\n",
              "    };\n",
              "  });\n",
              "\n",
              "  // Wait for the user to pick the files.\n",
              "  const files = yield {\n",
              "    promise: Promise.race([pickedPromise, cancelPromise]),\n",
              "    response: {\n",
              "      action: 'starting',\n",
              "    }\n",
              "  };\n",
              "\n",
              "  cancel.remove();\n",
              "\n",
              "  // Disable the input element since further picks are not allowed.\n",
              "  inputElement.disabled = true;\n",
              "\n",
              "  if (!files) {\n",
              "    return {\n",
              "      response: {\n",
              "        action: 'complete',\n",
              "      }\n",
              "    };\n",
              "  }\n",
              "\n",
              "  for (const file of files) {\n",
              "    const li = document.createElement('li');\n",
              "    li.append(span(file.name, {fontWeight: 'bold'}));\n",
              "    li.append(span(\n",
              "        `(${file.type || 'n/a'}) - ${file.size} bytes, ` +\n",
              "        `last modified: ${\n",
              "            file.lastModifiedDate ? file.lastModifiedDate.toLocaleDateString() :\n",
              "                                    'n/a'} - `));\n",
              "    const percent = span('0% done');\n",
              "    li.appendChild(percent);\n",
              "\n",
              "    outputElement.appendChild(li);\n",
              "\n",
              "    const fileDataPromise = new Promise((resolve) => {\n",
              "      const reader = new FileReader();\n",
              "      reader.onload = (e) => {\n",
              "        resolve(e.target.result);\n",
              "      };\n",
              "      reader.readAsArrayBuffer(file);\n",
              "    });\n",
              "    // Wait for the data to be ready.\n",
              "    let fileData = yield {\n",
              "      promise: fileDataPromise,\n",
              "      response: {\n",
              "        action: 'continue',\n",
              "      }\n",
              "    };\n",
              "\n",
              "    // Use a chunked sending to avoid message size limits. See b/62115660.\n",
              "    let position = 0;\n",
              "    do {\n",
              "      const length = Math.min(fileData.byteLength - position, MAX_PAYLOAD_SIZE);\n",
              "      const chunk = new Uint8Array(fileData, position, length);\n",
              "      position += length;\n",
              "\n",
              "      const base64 = btoa(String.fromCharCode.apply(null, chunk));\n",
              "      yield {\n",
              "        response: {\n",
              "          action: 'append',\n",
              "          file: file.name,\n",
              "          data: base64,\n",
              "        },\n",
              "      };\n",
              "\n",
              "      let percentDone = fileData.byteLength === 0 ?\n",
              "          100 :\n",
              "          Math.round((position / fileData.byteLength) * 100);\n",
              "      percent.textContent = `${percentDone}% done`;\n",
              "\n",
              "    } while (position < fileData.byteLength);\n",
              "  }\n",
              "\n",
              "  // All done.\n",
              "  yield {\n",
              "    response: {\n",
              "      action: 'complete',\n",
              "    }\n",
              "  };\n",
              "}\n",
              "\n",
              "scope.google = scope.google || {};\n",
              "scope.google.colab = scope.google.colab || {};\n",
              "scope.google.colab._files = {\n",
              "  _uploadFiles,\n",
              "  _uploadFilesContinue,\n",
              "};\n",
              "})(self);\n",
              "</script> "
            ]
          },
          "metadata": {}
        },
        {
          "output_type": "stream",
          "name": "stdout",
          "text": [
            "Saving data_loaders.py to data_loaders.py\n"
          ]
        }
      ]
    },
    {
      "cell_type": "code",
      "source": [
        "!pip install torch\n",
        "!pip install torch_geometric"
      ],
      "metadata": {
        "colab": {
          "base_uri": "https://localhost:8080/"
        },
        "id": "0VS9RO34qfwe",
        "outputId": "39679a37-23d5-4115-bb55-28cbab53428f"
      },
      "execution_count": null,
      "outputs": [
        {
          "output_type": "stream",
          "name": "stdout",
          "text": [
            "Requirement already satisfied: torch in /usr/local/lib/python3.11/dist-packages (2.6.0+cu124)\n",
            "Requirement already satisfied: filelock in /usr/local/lib/python3.11/dist-packages (from torch) (3.18.0)\n",
            "Requirement already satisfied: typing-extensions>=4.10.0 in /usr/local/lib/python3.11/dist-packages (from torch) (4.12.2)\n",
            "Requirement already satisfied: networkx in /usr/local/lib/python3.11/dist-packages (from torch) (3.4.2)\n",
            "Requirement already satisfied: jinja2 in /usr/local/lib/python3.11/dist-packages (from torch) (3.1.6)\n",
            "Requirement already satisfied: fsspec in /usr/local/lib/python3.11/dist-packages (from torch) (2025.3.0)\n",
            "Requirement already satisfied: nvidia-cuda-nvrtc-cu12==12.4.127 in /usr/local/lib/python3.11/dist-packages (from torch) (12.4.127)\n",
            "Requirement already satisfied: nvidia-cuda-runtime-cu12==12.4.127 in /usr/local/lib/python3.11/dist-packages (from torch) (12.4.127)\n",
            "Requirement already satisfied: nvidia-cuda-cupti-cu12==12.4.127 in /usr/local/lib/python3.11/dist-packages (from torch) (12.4.127)\n",
            "Requirement already satisfied: nvidia-cudnn-cu12==9.1.0.70 in /usr/local/lib/python3.11/dist-packages (from torch) (9.1.0.70)\n",
            "Requirement already satisfied: nvidia-cublas-cu12==12.4.5.8 in /usr/local/lib/python3.11/dist-packages (from torch) (12.4.5.8)\n",
            "Requirement already satisfied: nvidia-cufft-cu12==11.2.1.3 in /usr/local/lib/python3.11/dist-packages (from torch) (11.2.1.3)\n",
            "Requirement already satisfied: nvidia-curand-cu12==10.3.5.147 in /usr/local/lib/python3.11/dist-packages (from torch) (10.3.5.147)\n",
            "Requirement already satisfied: nvidia-cusolver-cu12==11.6.1.9 in /usr/local/lib/python3.11/dist-packages (from torch) (11.6.1.9)\n",
            "Requirement already satisfied: nvidia-cusparse-cu12==12.3.1.170 in /usr/local/lib/python3.11/dist-packages (from torch) (12.3.1.170)\n",
            "Requirement already satisfied: nvidia-cusparselt-cu12==0.6.2 in /usr/local/lib/python3.11/dist-packages (from torch) (0.6.2)\n",
            "Requirement already satisfied: nvidia-nccl-cu12==2.21.5 in /usr/local/lib/python3.11/dist-packages (from torch) (2.21.5)\n",
            "Requirement already satisfied: nvidia-nvtx-cu12==12.4.127 in /usr/local/lib/python3.11/dist-packages (from torch) (12.4.127)\n",
            "Requirement already satisfied: nvidia-nvjitlink-cu12==12.4.127 in /usr/local/lib/python3.11/dist-packages (from torch) (12.4.127)\n",
            "Requirement already satisfied: triton==3.2.0 in /usr/local/lib/python3.11/dist-packages (from torch) (3.2.0)\n",
            "Requirement already satisfied: sympy==1.13.1 in /usr/local/lib/python3.11/dist-packages (from torch) (1.13.1)\n",
            "Requirement already satisfied: mpmath<1.4,>=1.1.0 in /usr/local/lib/python3.11/dist-packages (from sympy==1.13.1->torch) (1.3.0)\n",
            "Requirement already satisfied: MarkupSafe>=2.0 in /usr/local/lib/python3.11/dist-packages (from jinja2->torch) (3.0.2)\n",
            "Requirement already satisfied: torch_geometric in /usr/local/lib/python3.11/dist-packages (2.6.1)\n",
            "Requirement already satisfied: aiohttp in /usr/local/lib/python3.11/dist-packages (from torch_geometric) (3.11.14)\n",
            "Requirement already satisfied: fsspec in /usr/local/lib/python3.11/dist-packages (from torch_geometric) (2025.3.0)\n",
            "Requirement already satisfied: jinja2 in /usr/local/lib/python3.11/dist-packages (from torch_geometric) (3.1.6)\n",
            "Requirement already satisfied: numpy in /usr/local/lib/python3.11/dist-packages (from torch_geometric) (2.0.2)\n",
            "Requirement already satisfied: psutil>=5.8.0 in /usr/local/lib/python3.11/dist-packages (from torch_geometric) (5.9.5)\n",
            "Requirement already satisfied: pyparsing in /usr/local/lib/python3.11/dist-packages (from torch_geometric) (3.2.1)\n",
            "Requirement already satisfied: requests in /usr/local/lib/python3.11/dist-packages (from torch_geometric) (2.32.3)\n",
            "Requirement already satisfied: tqdm in /usr/local/lib/python3.11/dist-packages (from torch_geometric) (4.67.1)\n",
            "Requirement already satisfied: aiohappyeyeballs>=2.3.0 in /usr/local/lib/python3.11/dist-packages (from aiohttp->torch_geometric) (2.6.1)\n",
            "Requirement already satisfied: aiosignal>=1.1.2 in /usr/local/lib/python3.11/dist-packages (from aiohttp->torch_geometric) (1.3.2)\n",
            "Requirement already satisfied: attrs>=17.3.0 in /usr/local/lib/python3.11/dist-packages (from aiohttp->torch_geometric) (25.3.0)\n",
            "Requirement already satisfied: frozenlist>=1.1.1 in /usr/local/lib/python3.11/dist-packages (from aiohttp->torch_geometric) (1.5.0)\n",
            "Requirement already satisfied: multidict<7.0,>=4.5 in /usr/local/lib/python3.11/dist-packages (from aiohttp->torch_geometric) (6.2.0)\n",
            "Requirement already satisfied: propcache>=0.2.0 in /usr/local/lib/python3.11/dist-packages (from aiohttp->torch_geometric) (0.3.0)\n",
            "Requirement already satisfied: yarl<2.0,>=1.17.0 in /usr/local/lib/python3.11/dist-packages (from aiohttp->torch_geometric) (1.18.3)\n",
            "Requirement already satisfied: MarkupSafe>=2.0 in /usr/local/lib/python3.11/dist-packages (from jinja2->torch_geometric) (3.0.2)\n",
            "Requirement already satisfied: charset-normalizer<4,>=2 in /usr/local/lib/python3.11/dist-packages (from requests->torch_geometric) (3.4.1)\n",
            "Requirement already satisfied: idna<4,>=2.5 in /usr/local/lib/python3.11/dist-packages (from requests->torch_geometric) (3.10)\n",
            "Requirement already satisfied: urllib3<3,>=1.21.1 in /usr/local/lib/python3.11/dist-packages (from requests->torch_geometric) (2.3.0)\n",
            "Requirement already satisfied: certifi>=2017.4.17 in /usr/local/lib/python3.11/dist-packages (from requests->torch_geometric) (2025.1.31)\n"
          ]
        }
      ]
    },
    {
      "cell_type": "code",
      "execution_count": null,
      "metadata": {
        "id": "zRdg-F4yY5dU"
      },
      "outputs": [],
      "source": [
        "from data_loaders import preproccess_data\n",
        "file_path = \"/content/drive/MyDrive/BioSolveAI/data/curated-solubility-dataset.csv\"\n",
        "\n",
        "df = preproccess_data(file_path)"
      ]
    },
    {
      "cell_type": "code",
      "source": [
        "# shape should be (9959, 27) as seen in EDA file\n",
        "assert df.shape == (9959, 27)"
      ],
      "metadata": {
        "id": "w2rBJnFzrhmq"
      },
      "execution_count": null,
      "outputs": []
    },
    {
      "cell_type": "code",
      "source": [
        "from rdkit import Chem\n",
        "from rdkit.Chem import Descriptors, Crippen, rdMolDescriptors\n",
        "from rdkit.Chem.GraphDescriptors import BertzCT, BalabanJ\n",
        "\n",
        "# get first molecule and its name\n",
        "mol = df.loc[1, \"mol\"]\n",
        "name = df.loc[1, \"Name\"]\n",
        "\n",
        "# compute molecular descriptors (global features)\n",
        "features = {\n",
        "    \"name\": name,\n",
        "    \"MolWt\": Descriptors.MolWt(mol),\n",
        "    \"MolLogP\": Crippen.MolLogP(mol),\n",
        "    \"TPSA\": rdMolDescriptors.CalcTPSA(mol),\n",
        "    \"BalabanJ\": float(BalabanJ(mol)),\n",
        "    \"MolMR\": Crippen.MolMR(mol),\n",
        "    \"BertzCT\": BertzCT(mol)\n",
        "}\n",
        "\n",
        "# ensuring each of the rdkit descriptors are functioning\n",
        "print(features)"
      ],
      "metadata": {
        "colab": {
          "base_uri": "https://localhost:8080/"
        },
        "id": "6CI_2xXpjp4w",
        "outputId": "66056f28-0c8b-4bed-93d9-2b6ddfc11e53"
      },
      "execution_count": null,
      "outputs": [
        {
          "output_type": "stream",
          "name": "stdout",
          "text": [
            "{'name': 'Benzo[cd]indol-2(1H)-one', 'MolWt': 169.18299999999996, 'MolLogP': 2.405500000000001, 'TPSA': 29.1, 'BalabanJ': 2.5829963936570306, 'MolMR': 51.90120000000002, 'BertzCT': 511.2292477154967}\n"
          ]
        }
      ]
    },
    {
      "cell_type": "code",
      "source": [
        "import rdkit\n",
        "from rdkit import Chem\n",
        "from rdkit.Chem import rdmolops\n",
        "from rdkit.Chem import Descriptors, Crippen, rdMolDescriptors\n",
        "from rdkit.Chem.GraphDescriptors import BertzCT, BalabanJ\n",
        "import torch\n",
        "from torch_geometric.data import Data\n",
        "\n",
        "smiles = df.loc[1, 'SMILES']\n",
        "print(smiles)\n",
        "mol = Chem.MolFromSmiles(smiles)\n",
        "\n",
        "# get adjacency matrix and convert to torch tensor\n",
        "adj = rdmolops.GetAdjacencyMatrix(mol)\n",
        "adj = torch.tensor(adj, dtype=torch.long)\n",
        "print(adj, \"\\n\", adj.shape)\n",
        "\n",
        "# convert to edge_index format used in PyTorch Geometric\n",
        "edge_index = adj.nonzero(as_tuple=False).t().contiguous()\n",
        "\n",
        "# check that adjacency matrix is working properly\n",
        "print(\"Edge index shape:\", edge_index.shape)\n",
        "print(\"Edge index:\\n\", edge_index)\n",
        "display(mol)\n",
        "\n",
        "# assert basic logic, edge shape should be 2 x num bonds\n",
        "# and adjacency dim should be number of atoms\n",
        "assert edge_index.shape[1] == adj.sum() == 2 * mol.GetNumBonds()\n",
        "assert edge_index.shape[0] == 2\n",
        "assert adj.shape[0] == adj.shape[1] == mol.GetNumAtoms()"
      ],
      "metadata": {
        "colab": {
          "base_uri": "https://localhost:8080/",
          "height": 524
        },
        "id": "CJlJEl-Yr0R-",
        "outputId": "0de3f769-3115-4ce3-8ba7-9aa1292769a3"
      },
      "execution_count": null,
      "outputs": [
        {
          "output_type": "stream",
          "name": "stdout",
          "text": [
            "O=C1Nc2cccc3cccc1c23\n",
            "tensor([[0, 1, 0, 0, 0, 0, 0, 0, 0, 0, 0, 0, 0],\n",
            "        [1, 0, 1, 0, 0, 0, 0, 0, 0, 0, 0, 1, 0],\n",
            "        [0, 1, 0, 1, 0, 0, 0, 0, 0, 0, 0, 0, 0],\n",
            "        [0, 0, 1, 0, 1, 0, 0, 0, 0, 0, 0, 0, 1],\n",
            "        [0, 0, 0, 1, 0, 1, 0, 0, 0, 0, 0, 0, 0],\n",
            "        [0, 0, 0, 0, 1, 0, 1, 0, 0, 0, 0, 0, 0],\n",
            "        [0, 0, 0, 0, 0, 1, 0, 1, 0, 0, 0, 0, 0],\n",
            "        [0, 0, 0, 0, 0, 0, 1, 0, 1, 0, 0, 0, 1],\n",
            "        [0, 0, 0, 0, 0, 0, 0, 1, 0, 1, 0, 0, 0],\n",
            "        [0, 0, 0, 0, 0, 0, 0, 0, 1, 0, 1, 0, 0],\n",
            "        [0, 0, 0, 0, 0, 0, 0, 0, 0, 1, 0, 1, 0],\n",
            "        [0, 1, 0, 0, 0, 0, 0, 0, 0, 0, 1, 0, 1],\n",
            "        [0, 0, 0, 1, 0, 0, 0, 1, 0, 0, 0, 1, 0]]) \n",
            " torch.Size([13, 13])\n",
            "Edge index shape: torch.Size([2, 30])\n",
            "Edge index:\n",
            " tensor([[ 0,  1,  1,  1,  2,  2,  3,  3,  3,  4,  4,  5,  5,  6,  6,  7,  7,  7,\n",
            "          8,  8,  9,  9, 10, 10, 11, 11, 11, 12, 12, 12],\n",
            "        [ 1,  0,  2, 11,  1,  3,  2,  4, 12,  3,  5,  4,  6,  5,  7,  6,  8, 12,\n",
            "          7,  9,  8, 10,  9, 11,  1, 10, 12,  3,  7, 11]])\n"
          ]
        },
        {
          "output_type": "display_data",
          "data": {
            "text/plain": [
              "<rdkit.Chem.rdchem.Mol at 0x7e2afead4f90>"
            ],
            "image/png": "[encoded data removed]"
          },
          "metadata": {}
        }
      ]
    },
    {
      "cell_type": "code",
      "source": [
        "# check node features, selected 6 basic atomic features from rdkit taht impact solubility\n",
        "name = df.loc[1, \"Name\"]\n",
        "print(name)\n",
        "atom_features = []\n",
        "for atom in mol.GetAtoms():\n",
        "  atom_features.append([\n",
        "      atom.GetAtomicNum(),\n",
        "      atom.GetIsAromatic(),\n",
        "      atom.GetDegree(),\n",
        "      atom.GetFormalCharge(),\n",
        "      atom.GetTotalNumHs(),\n",
        "      atom.IsInRing()\n",
        "    ])\n",
        "x = torch.tensor(atom_features, dtype=torch.float)\n",
        "\n",
        "print(x, \"\\n\", x.shape)\n",
        "\n",
        "assert x.shape[0] == mol.GetNumAtoms()\n",
        "assert x.shape[1] == 6\n",
        "\n",
        "mol1 = df.loc[2045, \"mol\"]\n",
        "name = df.loc[2045, \"Name\"]\n",
        "print(name)\n",
        "\n",
        "atom_features = []\n",
        "for atom in mol1.GetAtoms():\n",
        "  atom_features.append([\n",
        "      atom.GetAtomicNum(),\n",
        "      atom.GetIsAromatic(),\n",
        "      atom.GetDegree(),\n",
        "      atom.GetFormalCharge(),\n",
        "      atom.GetTotalNumHs(),\n",
        "      atom.IsInRing()\n",
        "    ])\n",
        "x = torch.tensor(atom_features, dtype=torch.float)\n",
        "\n",
        "assert x.shape[0] == mol1.GetNumAtoms()\n",
        "assert x.shape[1] == 6\n",
        "\n",
        "print(x, \"\\n\", x.shape)"
      ],
      "metadata": {
        "colab": {
          "base_uri": "https://localhost:8080/"
        },
        "id": "Gqg_pC46Jx8y",
        "outputId": "92a1cdba-2d05-490f-d04e-0b8dcd65625e"
      },
      "execution_count": null,
      "outputs": [
        {
          "output_type": "stream",
          "name": "stdout",
          "text": [
            "Benzo[cd]indol-2(1H)-one\n",
            "tensor([[8., 0., 1., 0., 0., 0.],\n",
            "        [6., 0., 3., 0., 0., 1.],\n",
            "        [7., 0., 2., 0., 1., 1.],\n",
            "        [6., 1., 3., 0., 0., 1.],\n",
            "        [6., 1., 2., 0., 1., 1.],\n",
            "        [6., 1., 2., 0., 1., 1.],\n",
            "        [6., 1., 2., 0., 1., 1.],\n",
            "        [6., 1., 3., 0., 0., 1.],\n",
            "        [6., 1., 2., 0., 1., 1.],\n",
            "        [6., 1., 2., 0., 1., 1.],\n",
            "        [6., 1., 2., 0., 1., 1.],\n",
            "        [6., 1., 3., 0., 0., 1.],\n",
            "        [6., 1., 3., 0., 0., 1.]]) \n",
            " torch.Size([13, 6])\n",
            "acetic acid\n",
            "tensor([[6., 0., 1., 0., 3., 0.],\n",
            "        [6., 0., 3., 0., 0., 0.],\n",
            "        [8., 0., 1., 0., 0., 0.],\n",
            "        [8., 0., 1., 0., 1., 0.]]) \n",
            " torch.Size([4, 6])\n"
          ]
        }
      ]
    },
    {
      "cell_type": "code",
      "source": [
        "bond_type_to_idx = {\n",
        "    Chem.rdchem.BondType.SINGLE: 0,\n",
        "    Chem.rdchem.BondType.DOUBLE: 1,\n",
        "    Chem.rdchem.BondType.TRIPLE: 2,\n",
        "    Chem.rdchem.BondType.AROMATIC: 3,\n",
        "  }\n",
        "\n",
        "edge_attr = []\n",
        "for bond in mol.GetBonds():\n",
        "  i = bond.GetBeginAtomIdx()\n",
        "  j = bond.GetEndAtomIdx()\n",
        "  bond_type = bond.GetBondType()\n",
        "  bond_feature = [0] * len(bond_type_to_idx)\n",
        "  bond_feature[bond_type_to_idx[bond_type]] = 1\n",
        "\n",
        "  # add edge in both directions (since PyG treats edges as undirected by default)\n",
        "  edge_attr.append(bond_feature)\n",
        "  edge_attr.append(bond_feature)\n",
        "\n",
        "edge_attr = torch.tensor(edge_attr, dtype=torch.float)\n",
        "print(edge_attr, \"\\n\", edge_attr.shape)\n",
        "\n",
        "assert edge_attr.shape[0] == 2 * mol.GetNumBonds()\n",
        "assert edge_attr.shape[1] == len(bond_type_to_idx)\n",
        "assert torch.all(edge_attr.sum(dim=1) == 1.0)"
      ],
      "metadata": {
        "colab": {
          "base_uri": "https://localhost:8080/"
        },
        "id": "0VwLuLPQPYrK",
        "outputId": "f1106b1c-92c8-43b6-b885-3482fa8d1c30"
      },
      "execution_count": null,
      "outputs": [
        {
          "output_type": "stream",
          "name": "stdout",
          "text": [
            "tensor([[0., 1., 0., 0.],\n",
            "        [0., 1., 0., 0.],\n",
            "        [1., 0., 0., 0.],\n",
            "        [1., 0., 0., 0.],\n",
            "        [1., 0., 0., 0.],\n",
            "        [1., 0., 0., 0.],\n",
            "        [0., 0., 0., 1.],\n",
            "        [0., 0., 0., 1.],\n",
            "        [0., 0., 0., 1.],\n",
            "        [0., 0., 0., 1.],\n",
            "        [0., 0., 0., 1.],\n",
            "        [0., 0., 0., 1.],\n",
            "        [0., 0., 0., 1.],\n",
            "        [0., 0., 0., 1.],\n",
            "        [0., 0., 0., 1.],\n",
            "        [0., 0., 0., 1.],\n",
            "        [0., 0., 0., 1.],\n",
            "        [0., 0., 0., 1.],\n",
            "        [0., 0., 0., 1.],\n",
            "        [0., 0., 0., 1.],\n",
            "        [0., 0., 0., 1.],\n",
            "        [0., 0., 0., 1.],\n",
            "        [0., 0., 0., 1.],\n",
            "        [0., 0., 0., 1.],\n",
            "        [1., 0., 0., 0.],\n",
            "        [1., 0., 0., 0.],\n",
            "        [0., 0., 0., 1.],\n",
            "        [0., 0., 0., 1.],\n",
            "        [0., 0., 0., 1.],\n",
            "        [0., 0., 0., 1.]]) \n",
            " torch.Size([30, 4])\n"
          ]
        }
      ]
    },
    {
      "cell_type": "code",
      "source": [
        "from data_loaders import mol_to_graph\n",
        "\n",
        "mol = df.loc[1, \"mol\"]\n",
        "data = mol_to_graph(mol)\n",
        "targets = df['Solubility'].tolist()\n",
        "target = targets[0]\n",
        "data.y = torch.tensor([target], dtype=torch.float)"
      ],
      "metadata": {
        "id": "CsVv-61JbFq2"
      },
      "execution_count": null,
      "outputs": []
    },
    {
      "cell_type": "code",
      "source": [
        "print(data.x)\n",
        "print(data.edge_index)\n",
        "print(data.edge_attr)\n",
        "print(data.u)\n",
        "print(data.y)"
      ],
      "metadata": {
        "id": "ZG1Rn6owhOQE",
        "colab": {
          "base_uri": "https://localhost:8080/"
        },
        "outputId": "faed1fa9-9d88-4091-f6ae-0872d807e2fe"
      },
      "execution_count": null,
      "outputs": [
        {
          "output_type": "stream",
          "name": "stdout",
          "text": [
            "tensor([[8., 0., 1., 0., 0., 0.],\n",
            "        [6., 0., 3., 0., 0., 1.],\n",
            "        [7., 0., 2., 0., 1., 1.],\n",
            "        [6., 1., 3., 0., 0., 1.],\n",
            "        [6., 1., 2., 0., 1., 1.],\n",
            "        [6., 1., 2., 0., 1., 1.],\n",
            "        [6., 1., 2., 0., 1., 1.],\n",
            "        [6., 1., 3., 0., 0., 1.],\n",
            "        [6., 1., 2., 0., 1., 1.],\n",
            "        [6., 1., 2., 0., 1., 1.],\n",
            "        [6., 1., 2., 0., 1., 1.],\n",
            "        [6., 1., 3., 0., 0., 1.],\n",
            "        [6., 1., 3., 0., 0., 1.]])\n",
            "tensor([[ 0,  1,  1,  1,  2,  2,  3,  3,  3,  4,  4,  5,  5,  6,  6,  7,  7,  7,\n",
            "          8,  8,  9,  9, 10, 10, 11, 11, 11, 12, 12, 12],\n",
            "        [ 1,  0,  2, 11,  1,  3,  2,  4, 12,  3,  5,  4,  6,  5,  7,  6,  8, 12,\n",
            "          7,  9,  8, 10,  9, 11,  1, 10, 12,  3,  7, 11]])\n",
            "tensor([[0., 1., 0., 0.],\n",
            "        [0., 1., 0., 0.],\n",
            "        [1., 0., 0., 0.],\n",
            "        [1., 0., 0., 0.],\n",
            "        [1., 0., 0., 0.],\n",
            "        [1., 0., 0., 0.],\n",
            "        [0., 0., 0., 1.],\n",
            "        [0., 0., 0., 1.],\n",
            "        [0., 0., 0., 1.],\n",
            "        [0., 0., 0., 1.],\n",
            "        [0., 0., 0., 1.],\n",
            "        [0., 0., 0., 1.],\n",
            "        [0., 0., 0., 1.],\n",
            "        [0., 0., 0., 1.],\n",
            "        [0., 0., 0., 1.],\n",
            "        [0., 0., 0., 1.],\n",
            "        [0., 0., 0., 1.],\n",
            "        [0., 0., 0., 1.],\n",
            "        [0., 0., 0., 1.],\n",
            "        [0., 0., 0., 1.],\n",
            "        [0., 0., 0., 1.],\n",
            "        [0., 0., 0., 1.],\n",
            "        [0., 0., 0., 1.],\n",
            "        [0., 0., 0., 1.],\n",
            "        [1., 0., 0., 0.],\n",
            "        [1., 0., 0., 0.],\n",
            "        [0., 0., 0., 1.],\n",
            "        [0., 0., 0., 1.],\n",
            "        [0., 0., 0., 1.],\n",
            "        [0., 0., 0., 1.]])\n",
            "tensor([[169.1830,   2.4055,  29.1000,   2.5830,  51.9012, 511.2292]])\n",
            "tensor([-0.4070])\n"
          ]
        }
      ]
    },
    {
      "cell_type": "code",
      "source": [
        "from rdkit import RDLogger\n",
        "RDLogger.DisableLog('rdApp.*')\n",
        "from torch_geometric.loader import DataLoader\n",
        "\n",
        "targets = df['Solubility'].tolist()\n",
        "mols = df['mol'].tolist()\n",
        "\n",
        "graph_data_list = []\n",
        "for mol, target in zip(mols, targets):\n",
        "    data = mol_to_graph(mol)\n",
        "    data.y = torch.tensor([target], dtype=torch.float).unsqueeze(0)\n",
        "    graph_data_list.append(data)\n",
        "\n",
        "loader = DataLoader(graph_data_list, batch_size=1, shuffle=True)\n",
        "batch = next(iter(loader))\n",
        "print(batch)"
      ],
      "metadata": {
        "colab": {
          "base_uri": "https://localhost:8080/"
        },
        "id": "4zIqB35xfMdX",
        "outputId": "9f8c2bca-053f-4ff2-f23b-21f425eb89f1"
      },
      "execution_count": null,
      "outputs": [
        {
          "output_type": "stream",
          "name": "stdout",
          "text": [
            "DataBatch(x=[11, 6], edge_index=[2, 22], edge_attr=[22, 4], u=[1, 6], y=[1, 1], batch=[11], ptr=[2])\n"
          ]
        }
      ]
    },
    {
      "cell_type": "code",
      "source": [
        "# generate scaffold splits, building off of EDA file\n",
        "from rdkit.Chem.Scaffolds import MurckoScaffold\n",
        "\n",
        "def get_scaffolds(mol):\n",
        "    try:\n",
        "        scaffold = MurckoScaffold.GetScaffoldForMol(mol)\n",
        "        if scaffold.GetNumAtoms() == 0:\n",
        "            return Chem.MolToSmiles(mol)\n",
        "        return Chem.MolToSmiles(scaffold)\n",
        "    except:\n",
        "        return Chem.MolToSmiles(mol)\n",
        "\n",
        "df['scaffold'] = df['mol'].apply(get_scaffolds)"
      ],
      "metadata": {
        "id": "TsOKKkuNwWmf"
      },
      "execution_count": 50,
      "outputs": []
    },
    {
      "cell_type": "code",
      "source": [
        "df.shape"
      ],
      "metadata": {
        "colab": {
          "base_uri": "https://localhost:8080/"
        },
        "id": "zJosZpguxg8J",
        "outputId": "740e4733-6e72-4b58-c096-ea3eded91b76"
      },
      "execution_count": 51,
      "outputs": [
        {
          "output_type": "execute_result",
          "data": {
            "text/plain": [
              "(9959, 28)"
            ]
          },
          "metadata": {},
          "execution_count": 51
        }
      ]
    },
    {
      "cell_type": "code",
      "source": [
        "from collections import defaultdict\n",
        "import numpy as np\n",
        "\n",
        "def generate_scaffold_split(df, frac_train=0.8, frac_valid=0.1, frac_test=0.1, seed=42):\n",
        "    # group scaffolds\n",
        "    scaffold_to_indices = defaultdict(list)\n",
        "    for idx, scaffold in enumerate(df['scaffold']):\n",
        "        scaffold_to_indices[scaffold].append(idx)\n",
        "\n",
        "    # sort scaffolds by group size\n",
        "    sorted_scaffold_groups = sorted(scaffold_to_indices.values(), key=len, reverse=True)\n",
        "\n",
        "    # split into train/val/test by scaffold group\n",
        "    train_idx, val_idx, test_idx = [], [], []\n",
        "    total = len(df)\n",
        "    np.random.seed(seed)\n",
        "\n",
        "    for group in sorted_scaffold_groups:\n",
        "        if len(train_idx) + len(group) <= frac_train * total:\n",
        "            train_idx.extend(group)\n",
        "        elif len(val_idx) + len(group) <= frac_valid * total:\n",
        "            val_idx.extend(group)\n",
        "        else:\n",
        "            test_idx.extend(group)\n",
        "\n",
        "    return train_idx, val_idx, test_idx\n",
        "\n",
        "train_idx, val_idx, test_idx = generate_scaffold_split(df)\n",
        "\n",
        "# Create splits\n",
        "train_df = df.iloc[train_idx]\n",
        "val_df = df.iloc[val_idx]\n",
        "test_df = df.iloc[test_idx]"
      ],
      "metadata": {
        "id": "mVE1MCFCfdGj"
      },
      "execution_count": 52,
      "outputs": []
    },
    {
      "cell_type": "code",
      "source": [
        "print(train_df.shape, val_df.shape, test_df.shape)\n",
        "\n",
        "# distinc scaffolds in each set\n",
        "train_scaffolds = len(set(train_df['scaffold']))\n",
        "val_scaffolds = len(set(val_df['scaffold']))\n",
        "test_scaffolds = len(set(test_df['scaffold']))\n",
        "\n",
        "# total unique scaffolds (should be 4991)\n",
        "total_unique = df['scaffold'].nunique()\n",
        "\n",
        "print(f\"Train: {train_scaffolds} scaffolds\")\n",
        "print(f\"Val: {val_scaffolds} scaffolds\")\n",
        "print(f\"Test: {test_scaffolds} scaffolds\")\n",
        "print(f\"Sum: {train_scaffolds + val_scaffolds + test_scaffolds} scaffolds\")\n",
        "print(f\"Total unique scaffolds in dataset: {total_unique}\")\n"
      ],
      "metadata": {
        "colab": {
          "base_uri": "https://localhost:8080/"
        },
        "id": "5qb0gngSw26c",
        "outputId": "07a04c6f-203d-4c76-88ba-22e16204512e"
      },
      "execution_count": 53,
      "outputs": [
        {
          "output_type": "stream",
          "name": "stdout",
          "text": [
            "(7967, 28) (995, 28) (997, 28)\n",
            "Train: 2999 scaffolds\n",
            "Val: 995 scaffolds\n",
            "Test: 997 scaffolds\n",
            "Sum: 4991 scaffolds\n",
            "Total unique scaffolds in dataset: 4991\n"
          ]
        }
      ]
    }
  ]
}